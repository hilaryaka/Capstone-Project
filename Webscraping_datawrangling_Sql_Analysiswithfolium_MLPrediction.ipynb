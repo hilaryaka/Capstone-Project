{
 "cells": [
  {
   "cell_type": "markdown",
   "metadata": {
    "execution": {
     "iopub.execute_input": "2022-07-08T11:43:02.720211Z",
     "iopub.status.busy": "2022-07-08T11:43:02.719806Z",
     "iopub.status.idle": "2022-07-08T11:43:02.727275Z",
     "shell.execute_reply": "2022-07-08T11:43:02.725682Z",
     "shell.execute_reply.started": "2022-07-08T11:43:02.720175Z"
    }
   },
   "source": [
    "###  Webscraping\n",
    "####  Data Wrangling\n",
    "#### Exploring and Preparing Data\n",
    "####  SQL Notebook for Peer Assignment \n",
    "####  Analysis with Folium\n",
    "####  Machine Learning Prediction\n",
    "###  All in one note book"
   ]
  },
  {
   "cell_type": "code",
   "execution_count": 3,
   "metadata": {},
   "outputs": [],
   "source": [
    "\n",
    "import requests  \n",
    "import pandas as pd\n",
    "import numpy as np\n",
    "import datetime\n",
    "\n",
    "pd.set_option('display.max_columns', None)\n",
    "pd.set_option('display.max_colwidth', None)"
   ]
  },
  {
   "cell_type": "markdown",
   "metadata": {},
   "source": [
    "Below we will define a series of helper functions that will help us use the API to extract information using identification numbers in the launch data."
   ]
  },
  {
   "cell_type": "code",
   "execution_count": 4,
   "metadata": {
    "execution": {
     "iopub.execute_input": "2022-07-08T11:43:02.747737Z",
     "iopub.status.busy": "2022-07-08T11:43:02.747304Z",
     "iopub.status.idle": "2022-07-08T11:43:02.767418Z",
     "shell.execute_reply": "2022-07-08T11:43:02.766085Z",
     "shell.execute_reply.started": "2022-07-08T11:43:02.747701Z"
    }
   },
   "outputs": [],
   "source": [
    "# Takes the dataset and uses the rocket column to call the API and append the data to the list\n",
    "def getBoosterVersion(data):\n",
    "    for x in data['rocket']:\n",
    "        response = requests.get(\"https://api.spacexdata.com/v4/rockets/\"+str(x)).json()\n",
    "        BoosterVersion.append(response['name'])\n",
    "\n",
    "# Takes the dataset and uses the launchpad column to call the API and append the data to the list\n",
    "def getLaunchSite(data):\n",
    "    for x in data['launchpad']:\n",
    "        response = requests.get(\"https://api.spacexdata.com/v4/launchpads/\"+str(x)).json()\n",
    "        Longitude.append(response['longitude'])\n",
    "        Latitude.append(response['latitude'])\n",
    "        LaunchSite.append(response['name'])\n",
    "        \n",
    "# Takes the dataset and uses the payloads column to call the API and append the data to the lists\n",
    "def getPayloadData(data):\n",
    "    for load in data['payloads']:\n",
    "        response = requests.get(\"https://api.spacexdata.com/v4/payloads/\"+load).json()\n",
    "        PayloadMass.append(response['mass_kg'])\n",
    "        Orbit.append(response['orbit'])\n",
    "        \n",
    "# Takes the dataset and uses the cores column to call the API and append the data to the lists\n",
    "def getCoreData(data):\n",
    "    for core in data['cores']:\n",
    "            if core['core'] != None:\n",
    "                response = requests.get(\"https://api.spacexdata.com/v4/cores/\"+core['core']).json()\n",
    "                Block.append(response['block'])\n",
    "                ReusedCount.append(response['reuse_count'])\n",
    "                Serial.append(response['serial'])\n",
    "            else:\n",
    "                Block.append(None)\n",
    "                ReusedCount.append(None)\n",
    "                Serial.append(None)\n",
    "            Outcome.append(str(core['landing_success'])+' '+str(core['landing_type']))\n",
    "            Flights.append(core['flight'])\n",
    "            GridFins.append(core['gridfins'])\n",
    "            Reused.append(core['reused'])\n",
    "            Legs.append(core['legs'])\n",
    "            LandingPad.append(core['landpad']) \n",
    "            "
   ]
  },
  {
   "cell_type": "markdown",
   "metadata": {},
   "source": [
    "Now let's start requesting rocket launch data from SpaceX API with the following URL:"
   ]
  },
  {
   "cell_type": "code",
   "execution_count": 5,
   "metadata": {
    "execution": {
     "iopub.execute_input": "2022-07-08T11:43:02.769955Z",
     "iopub.status.busy": "2022-07-08T11:43:02.769647Z",
     "iopub.status.idle": "2022-07-08T11:43:02.990596Z",
     "shell.execute_reply": "2022-07-08T11:43:02.989468Z",
     "shell.execute_reply.started": "2022-07-08T11:43:02.769931Z"
    }
   },
   "outputs": [],
   "source": [
    "spacex_url=\"https://api.spacexdata.com/v4/launches/past\"\n",
    "response = requests.get(spacex_url)\n",
    "# print(response.content)  # Check the content of the response"
   ]
  },
  {
   "cell_type": "markdown",
   "metadata": {},
   "source": [
    "### Task 1: Request and parse the SpaceX launch data using the GET request\n",
    "\n",
    "To make the requested JSON results more consistent, we will use the following static response object for this project:"
   ]
  },
  {
   "cell_type": "code",
   "execution_count": 6,
   "metadata": {
    "execution": {
     "iopub.execute_input": "2022-07-08T11:43:02.993969Z",
     "iopub.status.busy": "2022-07-08T11:43:02.993491Z",
     "iopub.status.idle": "2022-07-08T11:43:03.003614Z",
     "shell.execute_reply": "2022-07-08T11:43:03.002209Z",
     "shell.execute_reply.started": "2022-07-08T11:43:02.993922Z"
    }
   },
   "outputs": [
    {
     "data": {
      "text/plain": [
       "200"
      ]
     },
     "execution_count": 6,
     "metadata": {},
     "output_type": "execute_result"
    }
   ],
   "source": [
    "static_json_url='https://cf-courses-data.s3.us.cloud-object-storage.appdomain.cloud/IBM-DS0321EN-SkillsNetwork/datasets/API_call_spacex_api.json'\n",
    "response.status_code  # 200=successful"
   ]
  },
  {
   "cell_type": "markdown",
   "metadata": {},
   "source": [
    "Now we decode the response content as a Json using .json() and turn it into a Pandas dataframe using .json_normalize(). Using the dataframe data print the first 5 rows"
   ]
  },
  {
   "cell_type": "code",
   "execution_count": 7,
   "metadata": {
    "execution": {
     "iopub.execute_input": "2022-07-08T11:43:03.005797Z",
     "iopub.status.busy": "2022-07-08T11:43:03.005247Z",
     "iopub.status.idle": "2022-07-08T11:43:03.055951Z",
     "shell.execute_reply": "2022-07-08T11:43:03.055036Z",
     "shell.execute_reply.started": "2022-07-08T11:43:03.005728Z"
    }
   },
   "outputs": [
    {
     "name": "stdout",
     "output_type": "stream",
     "text": [
      "       static_fire_date_utc  static_fire_date_unix    net  window  \\\n",
      "0  2006-03-17T00:00:00.000Z           1.142554e+09  False     0.0   \n",
      "1                      None                    NaN  False     0.0   \n",
      "2                      None                    NaN  False     0.0   \n",
      "3  2008-09-20T00:00:00.000Z           1.221869e+09  False     0.0   \n",
      "4                      None                    NaN  False     0.0   \n",
      "\n",
      "                     rocket success  \\\n",
      "0  5e9d0d95eda69955f709d1eb   False   \n",
      "1  5e9d0d95eda69955f709d1eb   False   \n",
      "2  5e9d0d95eda69955f709d1eb   False   \n",
      "3  5e9d0d95eda69955f709d1eb    True   \n",
      "4  5e9d0d95eda69955f709d1eb    True   \n",
      "\n",
      "                                                                                                            failures  \\\n",
      "0                                                [{'time': 33, 'altitude': None, 'reason': 'merlin engine failure'}]   \n",
      "1            [{'time': 301, 'altitude': 289, 'reason': 'harmonic oscillation leading to premature engine shutdown'}]   \n",
      "2  [{'time': 140, 'altitude': 35, 'reason': 'residual stage-1 thrust led to collision between stage 1 and stage 2'}]   \n",
      "3                                                                                                                 []   \n",
      "4                                                                                                                 []   \n",
      "\n",
      "                                                                                                                                                                                details  \\\n",
      "0                                                                                                                                      Engine failure at 33 seconds and loss of vehicle   \n",
      "1  Successful first stage burn and transition to second stage, maximum altitude 289 km, Premature engine shutdown at T+7 min 30 s, Failed to reach orbit, Failed to recover first stage   \n",
      "2                                                                                                                  Residual stage 1 thrust led to collision between stage 1 and stage 2   \n",
      "3                        Ratsat was carried to orbit on the first successful orbital launch of any privately funded and developed, liquid-propelled carrier rocket, the SpaceX Falcon 1   \n",
      "4                                                                                                                                                                                  None   \n",
      "\n",
      "  crew ships capsules                                              payloads  \\\n",
      "0   []    []       []                            [5eb0e4b5b6c3bb0006eeb1e1]   \n",
      "1   []    []       []                            [5eb0e4b6b6c3bb0006eeb1e2]   \n",
      "2   []    []       []  [5eb0e4b6b6c3bb0006eeb1e3, 5eb0e4b6b6c3bb0006eeb1e4]   \n",
      "3   []    []       []                            [5eb0e4b7b6c3bb0006eeb1e5]   \n",
      "4   []    []       []                            [5eb0e4b7b6c3bb0006eeb1e6]   \n",
      "\n",
      "                  launchpad  flight_number         name  \\\n",
      "0  5e9e4502f5090995de566f86              1    FalconSat   \n",
      "1  5e9e4502f5090995de566f86              2      DemoSat   \n",
      "2  5e9e4502f5090995de566f86              3  Trailblazer   \n",
      "3  5e9e4502f5090995de566f86              4       RatSat   \n",
      "4  5e9e4502f5090995de566f86              5     RazakSat   \n",
      "\n",
      "                   date_utc   date_unix                 date_local  \\\n",
      "0  2006-03-24T22:30:00.000Z  1143239400  2006-03-25T10:30:00+12:00   \n",
      "1  2007-03-21T01:10:00.000Z  1174439400  2007-03-21T13:10:00+12:00   \n",
      "2  2008-08-03T03:34:00.000Z  1217734440  2008-08-03T15:34:00+12:00   \n",
      "3  2008-09-28T23:15:00.000Z  1222643700  2008-09-28T11:15:00+12:00   \n",
      "4  2009-07-13T03:35:00.000Z  1247456100  2009-07-13T15:35:00+12:00   \n",
      "\n",
      "  date_precision  upcoming  \\\n",
      "0           hour     False   \n",
      "1           hour     False   \n",
      "2           hour     False   \n",
      "3           hour     False   \n",
      "4           hour     False   \n",
      "\n",
      "                                                                                                                                                                                              cores  \\\n",
      "0  [{'core': '5e9e289df35918033d3b2623', 'flight': 1, 'gridfins': False, 'legs': False, 'reused': False, 'landing_attempt': False, 'landing_success': None, 'landing_type': None, 'landpad': None}]   \n",
      "1  [{'core': '5e9e289ef35918416a3b2624', 'flight': 1, 'gridfins': False, 'legs': False, 'reused': False, 'landing_attempt': False, 'landing_success': None, 'landing_type': None, 'landpad': None}]   \n",
      "2  [{'core': '5e9e289ef3591814873b2625', 'flight': 1, 'gridfins': False, 'legs': False, 'reused': False, 'landing_attempt': False, 'landing_success': None, 'landing_type': None, 'landpad': None}]   \n",
      "3  [{'core': '5e9e289ef3591855dc3b2626', 'flight': 1, 'gridfins': False, 'legs': False, 'reused': False, 'landing_attempt': False, 'landing_success': None, 'landing_type': None, 'landpad': None}]   \n",
      "4  [{'core': '5e9e289ef359184f103b2627', 'flight': 1, 'gridfins': False, 'legs': False, 'reused': False, 'landing_attempt': False, 'landing_success': None, 'landing_type': None, 'landpad': None}]   \n",
      "\n",
      "   auto_update    tbd launch_library_id                        id  \\\n",
      "0         True  False              None  5eb87cd9ffd86e000604b32a   \n",
      "1         True  False              None  5eb87cdaffd86e000604b32b   \n",
      "2         True  False              None  5eb87cdbffd86e000604b32c   \n",
      "3         True  False              None  5eb87cdbffd86e000604b32d   \n",
      "4         True  False              None  5eb87cdcffd86e000604b32e   \n",
      "\n",
      "  fairings.reused fairings.recovery_attempt fairings.recovered fairings.ships  \\\n",
      "0           False                     False              False             []   \n",
      "1           False                     False              False             []   \n",
      "2           False                     False              False             []   \n",
      "3           False                     False              False             []   \n",
      "4           False                     False              False             []   \n",
      "\n",
      "                                 links.patch.small  \\\n",
      "0  https://images2.imgbox.com/94/f2/NN6Ph45r_o.png   \n",
      "1  https://images2.imgbox.com/f9/4a/ZboXReNb_o.png   \n",
      "2  https://images2.imgbox.com/6c/cb/na1tzhHs_o.png   \n",
      "3  https://images2.imgbox.com/95/39/sRqN7rsv_o.png   \n",
      "4  https://images2.imgbox.com/ab/5a/Pequxd5d_o.png   \n",
      "\n",
      "                                 links.patch.large links.reddit.campaign  \\\n",
      "0  https://images2.imgbox.com/5b/02/QcxHUb5V_o.png                  None   \n",
      "1  https://images2.imgbox.com/80/a2/bkWotCIS_o.png                  None   \n",
      "2  https://images2.imgbox.com/4a/80/k1oAkY0k_o.png                  None   \n",
      "3  https://images2.imgbox.com/a3/99/qswRYzE8_o.png                  None   \n",
      "4  https://images2.imgbox.com/92/e4/7Cf6MLY0_o.png                  None   \n",
      "\n",
      "  links.reddit.launch links.reddit.media links.reddit.recovery  \\\n",
      "0                None               None                  None   \n",
      "1                None               None                  None   \n",
      "2                None               None                  None   \n",
      "3                None               None                  None   \n",
      "4                None               None                  None   \n",
      "\n",
      "  links.flickr.small links.flickr.original  \\\n",
      "0                 []                    []   \n",
      "1                 []                    []   \n",
      "2                 []                    []   \n",
      "3                 []                    []   \n",
      "4                 []                    []   \n",
      "\n",
      "                                                                                           links.presskit  \\\n",
      "0                                                                                                    None   \n",
      "1                                                                                                    None   \n",
      "2                                                                                                    None   \n",
      "3                                                                                                    None   \n",
      "4  http://www.spacex.com/press/2012/12/19/spacexs-falcon-1-successfully-delivers-razaksat-satellite-orbit   \n",
      "\n",
      "                                 links.webcast links.youtube_id  \\\n",
      "0  https://www.youtube.com/watch?v=0a_00nJ_Y88      0a_00nJ_Y88   \n",
      "1  https://www.youtube.com/watch?v=Lk4zQ2wP-Nc      Lk4zQ2wP-Nc   \n",
      "2  https://www.youtube.com/watch?v=v0w9p3U8860      v0w9p3U8860   \n",
      "3  https://www.youtube.com/watch?v=dLQ2tZEH6G0      dLQ2tZEH6G0   \n",
      "4  https://www.youtube.com/watch?v=yTaIDooc8Og      yTaIDooc8Og   \n",
      "\n",
      "                                                                  links.article  \\\n",
      "0  https://www.space.com/2196-spacex-inaugural-falcon-1-rocket-lost-launch.html   \n",
      "1      https://www.space.com/3590-spacex-falcon-1-rocket-fails-reach-orbit.html   \n",
      "2       http://www.spacex.com/news/2013/02/11/falcon-1-flight-3-mission-summary   \n",
      "3                                          https://en.wikipedia.org/wiki/Ratsat   \n",
      "4                       http://www.spacex.com/news/2013/02/12/falcon-1-flight-5   \n",
      "\n",
      "                                         links.wikipedia  fairings  \n",
      "0                  https://en.wikipedia.org/wiki/DemoSat       NaN  \n",
      "1                  https://en.wikipedia.org/wiki/DemoSat       NaN  \n",
      "2  https://en.wikipedia.org/wiki/Trailblazer_(satellite)       NaN  \n",
      "3                   https://en.wikipedia.org/wiki/Ratsat       NaN  \n",
      "4                 https://en.wikipedia.org/wiki/RazakSAT       NaN  \n"
     ]
    }
   ],
   "source": [
    "data = pd.json_normalize(response.json())  # convert to flat table\n",
    "print(data.head())"
   ]
  },
  {
   "cell_type": "markdown",
   "metadata": {},
   "source": [
    "We notice that a lot of the data are IDs. For example the rocket column has no information about the rocket just an identification number.\n",
    "\n",
    "We will now use the API again to get information about the launches using the IDs given for each launch. Specifically we will be using columns rocket, payloads, launchpad, and cores."
   ]
  },
  {
   "cell_type": "code",
   "execution_count": 8,
   "metadata": {
    "execution": {
     "iopub.execute_input": "2022-07-08T11:43:03.058627Z",
     "iopub.status.busy": "2022-07-08T11:43:03.058327Z",
     "iopub.status.idle": "2022-07-08T11:43:03.083869Z",
     "shell.execute_reply": "2022-07-08T11:43:03.082448Z",
     "shell.execute_reply.started": "2022-07-08T11:43:03.0586Z"
    }
   },
   "outputs": [],
   "source": [
    "# Lets take a subset of our dataframe keeping only the features we want and the flight number, and date_utc.\n",
    "data = data[['rocket', 'payloads', 'launchpad', 'cores', 'flight_number', 'date_utc']]\n",
    "\n",
    "# We will remove rows with multiple cores because those are falcon rockets with 2 extra rocket boosters and rows that have multiple payloads in a single rocket.\n",
    "data = data[data['cores'].map(len)==1]\n",
    "data = data[data['payloads'].map(len)==1]\n",
    "\n",
    "# Since payloads and cores are lists of size 1 we will also extract the single value in the list and replace the feature.\n",
    "data['cores'] = data['cores'].map(lambda x : x[0])\n",
    "data['payloads'] = data['payloads'].map(lambda x : x[0])\n",
    "\n",
    "# We also want to convert the date_utc to a datetime datatype and then extracting the date leaving the time\n",
    "data['date'] = pd.to_datetime(data['date_utc']).dt.date\n",
    "\n",
    "# Using the date we will restrict the dates of the launches\n",
    "data = data[data['date'] <= datetime.date(2020, 11, 13)]"
   ]
  },
  {
   "cell_type": "markdown",
   "metadata": {},
   "source": [
    "- From the rocket we would like to learn the booster name\n",
    "- From the payload we would like to learn the mass of the payload and the orbit that it is going to\n",
    "- From the launchpad we would like to know the name of the launch site being used, the longitude, and the latitude.\n",
    "- From cores we would like to learn the outcome of the landing, the type of the landing, number of flights with that core, whether gridfins were used, whether the core is reused, whether legs were used, the landing pad used, the block of the core which is a number used to seperate version of cores, the number of times this specific core has been reused, and the serial of the core.\n",
    "\n",
    "The data from these requests will be stored in lists and will be used to create a new dataframe."
   ]
  },
  {
   "cell_type": "code",
   "execution_count": 9,
   "metadata": {
    "execution": {
     "iopub.execute_input": "2022-07-08T11:43:03.085977Z",
     "iopub.status.busy": "2022-07-08T11:43:03.085618Z",
     "iopub.status.idle": "2022-07-08T11:43:03.092894Z",
     "shell.execute_reply": "2022-07-08T11:43:03.091815Z",
     "shell.execute_reply.started": "2022-07-08T11:43:03.085946Z"
    }
   },
   "outputs": [],
   "source": [
    "# Global variables \n",
    "BoosterVersion = []\n",
    "PayloadMass = []\n",
    "Orbit = []\n",
    "LaunchSite = []\n",
    "Outcome = []\n",
    "Flights = []\n",
    "GridFins = []\n",
    "Reused = []\n",
    "Legs = []\n",
    "LandingPad = []\n",
    "Block = []\n",
    "ReusedCount = []\n",
    "Serial = []\n",
    "Longitude = []\n",
    "Latitude = []"
   ]
  },
  {
   "cell_type": "code",
   "execution_count": 10,
   "metadata": {
    "execution": {
     "iopub.execute_input": "2022-07-08T11:43:03.095412Z",
     "iopub.status.busy": "2022-07-08T11:43:03.094197Z",
     "iopub.status.idle": "2022-07-08T11:43:08.1376Z",
     "shell.execute_reply": "2022-07-08T11:43:08.136589Z",
     "shell.execute_reply.started": "2022-07-08T11:43:03.095363Z"
    }
   },
   "outputs": [
    {
     "data": {
      "text/plain": [
       "['Falcon 1', 'Falcon 1', 'Falcon 1', 'Falcon 1', 'Falcon 9']"
      ]
     },
     "execution_count": 10,
     "metadata": {},
     "output_type": "execute_result"
    }
   ],
   "source": [
    "# Call getBoosterVersion\n",
    "getBoosterVersion(data)\n",
    "BoosterVersion[0:5]"
   ]
  },
  {
   "cell_type": "code",
   "execution_count": 11,
   "metadata": {
    "execution": {
     "iopub.execute_input": "2022-07-08T11:43:08.139572Z",
     "iopub.status.busy": "2022-07-08T11:43:08.139127Z",
     "iopub.status.idle": "2022-07-08T11:43:23.525244Z",
     "shell.execute_reply": "2022-07-08T11:43:23.524148Z",
     "shell.execute_reply.started": "2022-07-08T11:43:08.139531Z"
    }
   },
   "outputs": [],
   "source": [
    "# Call getLaunchSite\n",
    "getLaunchSite(data)\n",
    "\n",
    "# Call getPayloadData\n",
    "getPayloadData(data)\n",
    "\n",
    "# Call getCoreData\n",
    "getCoreData(data)"
   ]
  },
  {
   "cell_type": "code",
   "execution_count": 12,
   "metadata": {
    "execution": {
     "iopub.execute_input": "2022-07-08T11:43:23.526781Z",
     "iopub.status.busy": "2022-07-08T11:43:23.526471Z",
     "iopub.status.idle": "2022-07-08T11:43:23.533041Z",
     "shell.execute_reply": "2022-07-08T11:43:23.531821Z",
     "shell.execute_reply.started": "2022-07-08T11:43:23.526733Z"
    }
   },
   "outputs": [],
   "source": [
    "# combine the columns into a dictionary\n",
    "launch_dict = {'FlightNumber': list(data['flight_number']),\n",
    "'Date': list(data['date']),\n",
    "'BoosterVersion':BoosterVersion,\n",
    "'PayloadMass':PayloadMass,\n",
    "'Orbit':Orbit,\n",
    "'LaunchSite':LaunchSite,\n",
    "'Outcome':Outcome,\n",
    "'Flights':Flights,\n",
    "'GridFins':GridFins,\n",
    "'Reused':Reused,\n",
    "'Legs':Legs,\n",
    "'LandingPad':LandingPad,\n",
    "'Block':Block,\n",
    "'ReusedCount':ReusedCount,\n",
    "'Serial':Serial,\n",
    "'Longitude': Longitude,\n",
    "'Latitude': Latitude}\n"
   ]
  },
  {
   "cell_type": "markdown",
   "metadata": {},
   "source": [
    "Then, we need to create a Pandas data frame from the dictionary launch_dict."
   ]
  },
  {
   "cell_type": "code",
   "execution_count": 14,
   "metadata": {
    "execution": {
     "iopub.execute_input": "2022-07-08T11:43:23.534948Z",
     "iopub.status.busy": "2022-07-08T11:43:23.534564Z",
     "iopub.status.idle": "2022-07-08T11:43:23.559784Z",
     "shell.execute_reply": "2022-07-08T11:43:23.558415Z",
     "shell.execute_reply.started": "2022-07-08T11:43:23.534916Z"
    }
   },
   "outputs": [
    {
     "name": "stdout",
     "output_type": "stream",
     "text": [
      "   FlightNumber        Date BoosterVersion  PayloadMass Orbit  \\\n",
      "0             1  2006-03-24       Falcon 1         20.0   LEO   \n",
      "1             2  2007-03-21       Falcon 1          NaN   LEO   \n",
      "2             4  2008-09-28       Falcon 1        165.0   LEO   \n",
      "3             5  2009-07-13       Falcon 1        200.0   LEO   \n",
      "4             6  2010-06-04       Falcon 9          NaN   LEO   \n",
      "\n",
      "        LaunchSite    Outcome  Flights  GridFins  Reused   Legs LandingPad  \\\n",
      "0  Kwajalein Atoll  None None        1     False   False  False       None   \n",
      "1  Kwajalein Atoll  None None        1     False   False  False       None   \n",
      "2  Kwajalein Atoll  None None        1     False   False  False       None   \n",
      "3  Kwajalein Atoll  None None        1     False   False  False       None   \n",
      "4     CCSFS SLC 40  None None        1     False   False  False       None   \n",
      "\n",
      "   Block  ReusedCount    Serial   Longitude   Latitude  \n",
      "0    NaN            0  Merlin1A  167.743129   9.047721  \n",
      "1    NaN            0  Merlin2A  167.743129   9.047721  \n",
      "2    NaN            0  Merlin2C  167.743129   9.047721  \n",
      "3    NaN            0  Merlin3C  167.743129   9.047721  \n",
      "4    1.0            0     B0003  -80.577366  28.561857  \n"
     ]
    }
   ],
   "source": [
    "data_falcon9 = pd.DataFrame(launch_dict)\n",
    "print(data_falcon9.head())"
   ]
  },
  {
   "cell_type": "markdown",
   "metadata": {},
   "source": [
    "### Task 2: Filter the dataframe to only include Falcon 9 launches\n",
    "\n",
    "Finally we will remove the Falcon 1 launches keeping only the Falcon 9 launches. Filter the data dataframe using the BoosterVersion column to only keep the Falcon 9 launches. Save the filtered data to a new dataframe called data_falcon9."
   ]
  },
  {
   "cell_type": "code",
   "execution_count": 15,
   "metadata": {
    "execution": {
     "iopub.execute_input": "2022-07-08T11:43:23.56467Z",
     "iopub.status.busy": "2022-07-08T11:43:23.56437Z",
     "iopub.status.idle": "2022-07-08T11:43:23.574641Z",
     "shell.execute_reply": "2022-07-08T11:43:23.57369Z",
     "shell.execute_reply.started": "2022-07-08T11:43:23.564644Z"
    }
   },
   "outputs": [
    {
     "name": "stdout",
     "output_type": "stream",
     "text": [
      "Falcon 9    90\n",
      "Falcon 1     4\n",
      "Name: BoosterVersion, dtype: int64\n",
      "Falcon 9    90\n",
      "Name: BoosterVersion, dtype: int64\n"
     ]
    }
   ],
   "source": [
    "print(data_falcon9['BoosterVersion'].value_counts())\n",
    "data_falcon9 = data_falcon9[data_falcon9['BoosterVersion']=='Falcon 9']\n",
    "print(data_falcon9['BoosterVersion'].value_counts())\n"
   ]
  },
  {
   "cell_type": "markdown",
   "metadata": {},
   "source": [
    "Now that we have removed some values we should reset the FlgihtNumber column"
   ]
  },
  {
   "cell_type": "code",
   "execution_count": 16,
   "metadata": {
    "execution": {
     "iopub.execute_input": "2022-07-08T11:43:23.576776Z",
     "iopub.status.busy": "2022-07-08T11:43:23.576307Z",
     "iopub.status.idle": "2022-07-08T11:43:23.615873Z",
     "shell.execute_reply": "2022-07-08T11:43:23.614824Z",
     "shell.execute_reply.started": "2022-07-08T11:43:23.576717Z"
    }
   },
   "outputs": [
    {
     "data": {
      "text/html": [
       "<div>\n",
       "<style scoped>\n",
       "    .dataframe tbody tr th:only-of-type {\n",
       "        vertical-align: middle;\n",
       "    }\n",
       "\n",
       "    .dataframe tbody tr th {\n",
       "        vertical-align: top;\n",
       "    }\n",
       "\n",
       "    .dataframe thead th {\n",
       "        text-align: right;\n",
       "    }\n",
       "</style>\n",
       "<table border=\"1\" class=\"dataframe\">\n",
       "  <thead>\n",
       "    <tr style=\"text-align: right;\">\n",
       "      <th></th>\n",
       "      <th>FlightNumber</th>\n",
       "      <th>Date</th>\n",
       "      <th>BoosterVersion</th>\n",
       "      <th>PayloadMass</th>\n",
       "      <th>Orbit</th>\n",
       "      <th>LaunchSite</th>\n",
       "      <th>Outcome</th>\n",
       "      <th>Flights</th>\n",
       "      <th>GridFins</th>\n",
       "      <th>Reused</th>\n",
       "      <th>Legs</th>\n",
       "      <th>LandingPad</th>\n",
       "      <th>Block</th>\n",
       "      <th>ReusedCount</th>\n",
       "      <th>Serial</th>\n",
       "      <th>Longitude</th>\n",
       "      <th>Latitude</th>\n",
       "    </tr>\n",
       "  </thead>\n",
       "  <tbody>\n",
       "    <tr>\n",
       "      <th>4</th>\n",
       "      <td>1</td>\n",
       "      <td>2010-06-04</td>\n",
       "      <td>Falcon 9</td>\n",
       "      <td>NaN</td>\n",
       "      <td>LEO</td>\n",
       "      <td>CCSFS SLC 40</td>\n",
       "      <td>None None</td>\n",
       "      <td>1</td>\n",
       "      <td>False</td>\n",
       "      <td>False</td>\n",
       "      <td>False</td>\n",
       "      <td>None</td>\n",
       "      <td>1.0</td>\n",
       "      <td>0</td>\n",
       "      <td>B0003</td>\n",
       "      <td>-80.577366</td>\n",
       "      <td>28.561857</td>\n",
       "    </tr>\n",
       "    <tr>\n",
       "      <th>5</th>\n",
       "      <td>2</td>\n",
       "      <td>2012-05-22</td>\n",
       "      <td>Falcon 9</td>\n",
       "      <td>525.0</td>\n",
       "      <td>LEO</td>\n",
       "      <td>CCSFS SLC 40</td>\n",
       "      <td>None None</td>\n",
       "      <td>1</td>\n",
       "      <td>False</td>\n",
       "      <td>False</td>\n",
       "      <td>False</td>\n",
       "      <td>None</td>\n",
       "      <td>1.0</td>\n",
       "      <td>0</td>\n",
       "      <td>B0005</td>\n",
       "      <td>-80.577366</td>\n",
       "      <td>28.561857</td>\n",
       "    </tr>\n",
       "    <tr>\n",
       "      <th>6</th>\n",
       "      <td>3</td>\n",
       "      <td>2013-03-01</td>\n",
       "      <td>Falcon 9</td>\n",
       "      <td>677.0</td>\n",
       "      <td>ISS</td>\n",
       "      <td>CCSFS SLC 40</td>\n",
       "      <td>None None</td>\n",
       "      <td>1</td>\n",
       "      <td>False</td>\n",
       "      <td>False</td>\n",
       "      <td>False</td>\n",
       "      <td>None</td>\n",
       "      <td>1.0</td>\n",
       "      <td>0</td>\n",
       "      <td>B0007</td>\n",
       "      <td>-80.577366</td>\n",
       "      <td>28.561857</td>\n",
       "    </tr>\n",
       "    <tr>\n",
       "      <th>7</th>\n",
       "      <td>4</td>\n",
       "      <td>2013-09-29</td>\n",
       "      <td>Falcon 9</td>\n",
       "      <td>500.0</td>\n",
       "      <td>PO</td>\n",
       "      <td>VAFB SLC 4E</td>\n",
       "      <td>False Ocean</td>\n",
       "      <td>1</td>\n",
       "      <td>False</td>\n",
       "      <td>False</td>\n",
       "      <td>False</td>\n",
       "      <td>None</td>\n",
       "      <td>1.0</td>\n",
       "      <td>0</td>\n",
       "      <td>B1003</td>\n",
       "      <td>-120.610829</td>\n",
       "      <td>34.632093</td>\n",
       "    </tr>\n",
       "    <tr>\n",
       "      <th>8</th>\n",
       "      <td>5</td>\n",
       "      <td>2013-12-03</td>\n",
       "      <td>Falcon 9</td>\n",
       "      <td>3170.0</td>\n",
       "      <td>GTO</td>\n",
       "      <td>CCSFS SLC 40</td>\n",
       "      <td>None None</td>\n",
       "      <td>1</td>\n",
       "      <td>False</td>\n",
       "      <td>False</td>\n",
       "      <td>False</td>\n",
       "      <td>None</td>\n",
       "      <td>1.0</td>\n",
       "      <td>0</td>\n",
       "      <td>B1004</td>\n",
       "      <td>-80.577366</td>\n",
       "      <td>28.561857</td>\n",
       "    </tr>\n",
       "    <tr>\n",
       "      <th>...</th>\n",
       "      <td>...</td>\n",
       "      <td>...</td>\n",
       "      <td>...</td>\n",
       "      <td>...</td>\n",
       "      <td>...</td>\n",
       "      <td>...</td>\n",
       "      <td>...</td>\n",
       "      <td>...</td>\n",
       "      <td>...</td>\n",
       "      <td>...</td>\n",
       "      <td>...</td>\n",
       "      <td>...</td>\n",
       "      <td>...</td>\n",
       "      <td>...</td>\n",
       "      <td>...</td>\n",
       "      <td>...</td>\n",
       "      <td>...</td>\n",
       "    </tr>\n",
       "    <tr>\n",
       "      <th>89</th>\n",
       "      <td>86</td>\n",
       "      <td>2020-09-03</td>\n",
       "      <td>Falcon 9</td>\n",
       "      <td>15600.0</td>\n",
       "      <td>VLEO</td>\n",
       "      <td>KSC LC 39A</td>\n",
       "      <td>True ASDS</td>\n",
       "      <td>2</td>\n",
       "      <td>True</td>\n",
       "      <td>True</td>\n",
       "      <td>True</td>\n",
       "      <td>5e9e3032383ecb6bb234e7ca</td>\n",
       "      <td>5.0</td>\n",
       "      <td>12</td>\n",
       "      <td>B1060</td>\n",
       "      <td>-80.603956</td>\n",
       "      <td>28.608058</td>\n",
       "    </tr>\n",
       "    <tr>\n",
       "      <th>90</th>\n",
       "      <td>87</td>\n",
       "      <td>2020-10-06</td>\n",
       "      <td>Falcon 9</td>\n",
       "      <td>15600.0</td>\n",
       "      <td>VLEO</td>\n",
       "      <td>KSC LC 39A</td>\n",
       "      <td>True ASDS</td>\n",
       "      <td>3</td>\n",
       "      <td>True</td>\n",
       "      <td>True</td>\n",
       "      <td>True</td>\n",
       "      <td>5e9e3032383ecb6bb234e7ca</td>\n",
       "      <td>5.0</td>\n",
       "      <td>13</td>\n",
       "      <td>B1058</td>\n",
       "      <td>-80.603956</td>\n",
       "      <td>28.608058</td>\n",
       "    </tr>\n",
       "    <tr>\n",
       "      <th>91</th>\n",
       "      <td>88</td>\n",
       "      <td>2020-10-18</td>\n",
       "      <td>Falcon 9</td>\n",
       "      <td>15600.0</td>\n",
       "      <td>VLEO</td>\n",
       "      <td>KSC LC 39A</td>\n",
       "      <td>True ASDS</td>\n",
       "      <td>6</td>\n",
       "      <td>True</td>\n",
       "      <td>True</td>\n",
       "      <td>True</td>\n",
       "      <td>5e9e3032383ecb6bb234e7ca</td>\n",
       "      <td>5.0</td>\n",
       "      <td>12</td>\n",
       "      <td>B1051</td>\n",
       "      <td>-80.603956</td>\n",
       "      <td>28.608058</td>\n",
       "    </tr>\n",
       "    <tr>\n",
       "      <th>92</th>\n",
       "      <td>89</td>\n",
       "      <td>2020-10-24</td>\n",
       "      <td>Falcon 9</td>\n",
       "      <td>15600.0</td>\n",
       "      <td>VLEO</td>\n",
       "      <td>CCSFS SLC 40</td>\n",
       "      <td>True ASDS</td>\n",
       "      <td>3</td>\n",
       "      <td>True</td>\n",
       "      <td>True</td>\n",
       "      <td>True</td>\n",
       "      <td>5e9e3033383ecbb9e534e7cc</td>\n",
       "      <td>5.0</td>\n",
       "      <td>12</td>\n",
       "      <td>B1060</td>\n",
       "      <td>-80.577366</td>\n",
       "      <td>28.561857</td>\n",
       "    </tr>\n",
       "    <tr>\n",
       "      <th>93</th>\n",
       "      <td>90</td>\n",
       "      <td>2020-11-05</td>\n",
       "      <td>Falcon 9</td>\n",
       "      <td>3681.0</td>\n",
       "      <td>MEO</td>\n",
       "      <td>CCSFS SLC 40</td>\n",
       "      <td>True ASDS</td>\n",
       "      <td>1</td>\n",
       "      <td>True</td>\n",
       "      <td>False</td>\n",
       "      <td>True</td>\n",
       "      <td>5e9e3032383ecb6bb234e7ca</td>\n",
       "      <td>5.0</td>\n",
       "      <td>8</td>\n",
       "      <td>B1062</td>\n",
       "      <td>-80.577366</td>\n",
       "      <td>28.561857</td>\n",
       "    </tr>\n",
       "  </tbody>\n",
       "</table>\n",
       "<p>90 rows × 17 columns</p>\n",
       "</div>"
      ],
      "text/plain": [
       "    FlightNumber        Date BoosterVersion  PayloadMass Orbit    LaunchSite  \\\n",
       "4              1  2010-06-04       Falcon 9          NaN   LEO  CCSFS SLC 40   \n",
       "5              2  2012-05-22       Falcon 9        525.0   LEO  CCSFS SLC 40   \n",
       "6              3  2013-03-01       Falcon 9        677.0   ISS  CCSFS SLC 40   \n",
       "7              4  2013-09-29       Falcon 9        500.0    PO   VAFB SLC 4E   \n",
       "8              5  2013-12-03       Falcon 9       3170.0   GTO  CCSFS SLC 40   \n",
       "..           ...         ...            ...          ...   ...           ...   \n",
       "89            86  2020-09-03       Falcon 9      15600.0  VLEO    KSC LC 39A   \n",
       "90            87  2020-10-06       Falcon 9      15600.0  VLEO    KSC LC 39A   \n",
       "91            88  2020-10-18       Falcon 9      15600.0  VLEO    KSC LC 39A   \n",
       "92            89  2020-10-24       Falcon 9      15600.0  VLEO  CCSFS SLC 40   \n",
       "93            90  2020-11-05       Falcon 9       3681.0   MEO  CCSFS SLC 40   \n",
       "\n",
       "        Outcome  Flights  GridFins  Reused   Legs                LandingPad  \\\n",
       "4     None None        1     False   False  False                      None   \n",
       "5     None None        1     False   False  False                      None   \n",
       "6     None None        1     False   False  False                      None   \n",
       "7   False Ocean        1     False   False  False                      None   \n",
       "8     None None        1     False   False  False                      None   \n",
       "..          ...      ...       ...     ...    ...                       ...   \n",
       "89    True ASDS        2      True    True   True  5e9e3032383ecb6bb234e7ca   \n",
       "90    True ASDS        3      True    True   True  5e9e3032383ecb6bb234e7ca   \n",
       "91    True ASDS        6      True    True   True  5e9e3032383ecb6bb234e7ca   \n",
       "92    True ASDS        3      True    True   True  5e9e3033383ecbb9e534e7cc   \n",
       "93    True ASDS        1      True   False   True  5e9e3032383ecb6bb234e7ca   \n",
       "\n",
       "    Block  ReusedCount Serial   Longitude   Latitude  \n",
       "4     1.0            0  B0003  -80.577366  28.561857  \n",
       "5     1.0            0  B0005  -80.577366  28.561857  \n",
       "6     1.0            0  B0007  -80.577366  28.561857  \n",
       "7     1.0            0  B1003 -120.610829  34.632093  \n",
       "8     1.0            0  B1004  -80.577366  28.561857  \n",
       "..    ...          ...    ...         ...        ...  \n",
       "89    5.0           12  B1060  -80.603956  28.608058  \n",
       "90    5.0           13  B1058  -80.603956  28.608058  \n",
       "91    5.0           12  B1051  -80.603956  28.608058  \n",
       "92    5.0           12  B1060  -80.577366  28.561857  \n",
       "93    5.0            8  B1062  -80.577366  28.561857  \n",
       "\n",
       "[90 rows x 17 columns]"
      ]
     },
     "execution_count": 16,
     "metadata": {},
     "output_type": "execute_result"
    }
   ],
   "source": [
    "data_falcon9.loc[:,'FlightNumber'] = list(range(1, data_falcon9.shape[0]+1))\n",
    "data_falcon9"
   ]
  },
  {
   "cell_type": "markdown",
   "metadata": {},
   "source": [
    "## Data Wrangling\n",
    "\n",
    "We can see below that some of the rows are missing values in our dataset"
   ]
  },
  {
   "cell_type": "code",
   "execution_count": 17,
   "metadata": {
    "execution": {
     "iopub.execute_input": "2022-07-08T11:43:23.617516Z",
     "iopub.status.busy": "2022-07-08T11:43:23.617182Z",
     "iopub.status.idle": "2022-07-08T11:43:23.6322Z",
     "shell.execute_reply": "2022-07-08T11:43:23.631211Z",
     "shell.execute_reply.started": "2022-07-08T11:43:23.617484Z"
    }
   },
   "outputs": [
    {
     "data": {
      "text/plain": [
       "FlightNumber       0\n",
       "Date               0\n",
       "BoosterVersion     0\n",
       "PayloadMass        5\n",
       "Orbit              0\n",
       "LaunchSite         0\n",
       "Outcome            0\n",
       "Flights            0\n",
       "GridFins           0\n",
       "Reused             0\n",
       "Legs               0\n",
       "LandingPad        26\n",
       "Block              0\n",
       "ReusedCount        0\n",
       "Serial             0\n",
       "Longitude          0\n",
       "Latitude           0\n",
       "dtype: int64"
      ]
     },
     "execution_count": 17,
     "metadata": {},
     "output_type": "execute_result"
    }
   ],
   "source": [
    "data_falcon9.isnull().sum()"
   ]
  },
  {
   "cell_type": "markdown",
   "metadata": {},
   "source": [
    "Before we can continue we must deal with these missing values. The LandingPad column will retain None values to represent when landing pads were not used.\n",
    "\n",
    "### Task 3: Dealing with Missing Values\n",
    "\n",
    "Calculate below the mean for the PayloadMass using the .mean(). Then use the mean and the .replace() function to replace np.nan values in the data with the mean you calculated."
   ]
  },
  {
   "cell_type": "code",
   "execution_count": 18,
   "metadata": {
    "execution": {
     "iopub.execute_input": "2022-07-08T11:43:23.635261Z",
     "iopub.status.busy": "2022-07-08T11:43:23.634694Z",
     "iopub.status.idle": "2022-07-08T11:43:23.64808Z",
     "shell.execute_reply": "2022-07-08T11:43:23.646935Z",
     "shell.execute_reply.started": "2022-07-08T11:43:23.635213Z"
    }
   },
   "outputs": [
    {
     "data": {
      "text/plain": [
       "FlightNumber       0\n",
       "Date               0\n",
       "BoosterVersion     0\n",
       "PayloadMass        0\n",
       "Orbit              0\n",
       "LaunchSite         0\n",
       "Outcome            0\n",
       "Flights            0\n",
       "GridFins           0\n",
       "Reused             0\n",
       "Legs               0\n",
       "LandingPad        26\n",
       "Block              0\n",
       "ReusedCount        0\n",
       "Serial             0\n",
       "Longitude          0\n",
       "Latitude           0\n",
       "dtype: int64"
      ]
     },
     "execution_count": 18,
     "metadata": {},
     "output_type": "execute_result"
    }
   ],
   "source": [
    "data_falcon9['PayloadMass'] = data_falcon9['PayloadMass'].fillna(data_falcon9['PayloadMass'].mean())\n",
    "data_falcon9.isnull().sum()"
   ]
  },
  {
   "cell_type": "code",
   "execution_count": 19,
   "metadata": {
    "execution": {
     "iopub.execute_input": "2022-07-08T11:43:23.64982Z",
     "iopub.status.busy": "2022-07-08T11:43:23.649463Z",
     "iopub.status.idle": "2022-07-08T11:43:23.658648Z",
     "shell.execute_reply": "2022-07-08T11:43:23.656927Z",
     "shell.execute_reply.started": "2022-07-08T11:43:23.649753Z"
    }
   },
   "outputs": [],
   "source": [
    "# data_falcon9.to_csv('dataset_part_1.csv', index=False)"
   ]
  },
  {
   "cell_type": "markdown",
   "metadata": {},
   "source": [
    "<p id=\"assignmentscrape\" />\n",
    "\n",
    "## Lab 2: Web scraping Falcon 9 and Falcon Heavy Launches Records from Wikipedia\n",
    "\n",
    "In this lab, we will be performing web scraping to collect Falcon 9 historical launch records from a Wikipedia page titled `List of Falcon 9 and Falcon Heavy launches`\n",
    "\n",
    "[https://en.wikipedia.org/wiki/List_of_Falcon\\_9\\_and_Falcon_Heavy_launches](https://en.wikipedia.org/wiki/List_of_Falcon\\_9\\_and_Falcon_Heavy_launches?utm_medium=Exinfluencer&utm_source=Exinfluencer&utm_content=000026UJ&utm_term=10006555&utm_id=NA-SkillsNetwork-Channel-SkillsNetworkCoursesIBMDS0321ENSkillsNetwork26802033-2022-01-01)\n",
    "\n",
    "## Objectives\n",
    "\n",
    "Web scrap Falcon 9 launch records with BeautifulSoup:\n",
    "\n",
    "Extract a Falcon 9 launch records HTML table from Wikipedia\n",
    "Parse the table and convert it into a Pandas data frame\n",
    "First let's import required packages for this lab"
   ]
  },
  {
   "cell_type": "code",
   "execution_count": 24,
   "metadata": {
    "execution": {
     "iopub.execute_input": "2022-07-08T11:43:23.661816Z",
     "iopub.status.busy": "2022-07-08T11:43:23.6607Z",
     "iopub.status.idle": "2022-07-08T11:43:23.808541Z",
     "shell.execute_reply": "2022-07-08T11:43:23.807867Z",
     "shell.execute_reply.started": "2022-07-08T11:43:23.661777Z"
    }
   },
   "outputs": [],
   "source": [
    "import sys\n",
    "import requests\n",
    "from bs4 import BeautifulSoup\n",
    "import re\n",
    "import unicodedata\n",
    "import pandas as pd"
   ]
  },
  {
   "cell_type": "markdown",
   "metadata": {},
   "source": [
    "and we will provide some helper functions for you to process web scraped HTML table"
   ]
  },
  {
   "cell_type": "code",
   "execution_count": 21,
   "metadata": {
    "execution": {
     "iopub.execute_input": "2022-07-08T11:43:23.810171Z",
     "iopub.status.busy": "2022-07-08T11:43:23.809682Z",
     "iopub.status.idle": "2022-07-08T11:43:23.819468Z",
     "shell.execute_reply": "2022-07-08T11:43:23.818652Z",
     "shell.execute_reply.started": "2022-07-08T11:43:23.810143Z"
    }
   },
   "outputs": [],
   "source": [
    "def date_time(table_cells):  # returns data and time from the HTML table cell\n",
    "    return [data_time.strip() for data_time in list(table_cells.strings)][0:2]\n",
    "\n",
    "def booster_version(table_cells):  # returns the booster version from the HTML table cell\n",
    "    return ''.join([booster_version for i,booster_version in enumerate( table_cells.strings) if i%2==0][0:-1])\n",
    "\n",
    "def landing_status(table_cells):  # returns the landing status from the HTML table cell\n",
    "    return [i for i in table_cells.strings][0]\n",
    "\n",
    "def get_mass(table_cells):\n",
    "    mass=unicodedata.normalize(\"NFKD\", table_cells.text).strip()\n",
    "    if mass:\n",
    "        mass.find(\"kg\")\n",
    "        new_mass=mass[0:mass.find(\"kg\")+2]\n",
    "    else:\n",
    "        new_mass=0\n",
    "    return new_mass\n",
    "\n",
    "\n",
    "def extract_column_from_header(row):  # returns the landing status from the HTML table cell\n",
    "    if (row.br):\n",
    "        row.br.extract()\n",
    "    if row.a:\n",
    "        row.a.extract()\n",
    "    if row.sup:\n",
    "        row.sup.extract()\n",
    "        \n",
    "    colunm_name = ' '.join(row.contents)\n",
    "    \n",
    "    # Filter the digit and empty names\n",
    "    if not(colunm_name.strip().isdigit()):\n",
    "        colunm_name = colunm_name.strip()\n",
    "        return colunm_name    \n"
   ]
  },
  {
   "cell_type": "markdown",
   "metadata": {},
   "source": [
    "To keep the lab tasks consistent, you will be asked to scrape the data from a snapshot of the List of Falcon 9 and Falcon Heavy launches Wikipage updated on 9th June 2021"
   ]
  },
  {
   "cell_type": "code",
   "execution_count": 22,
   "metadata": {
    "execution": {
     "iopub.execute_input": "2022-07-08T11:43:23.82144Z",
     "iopub.status.busy": "2022-07-08T11:43:23.821054Z",
     "iopub.status.idle": "2022-07-08T11:43:23.833629Z",
     "shell.execute_reply": "2022-07-08T11:43:23.832346Z",
     "shell.execute_reply.started": "2022-07-08T11:43:23.821409Z"
    }
   },
   "outputs": [],
   "source": [
    "static_url = \"https://en.wikipedia.org/w/index.php?title=List_of_Falcon_9_and_Falcon_Heavy_launches&oldid=1027686922\""
   ]
  },
  {
   "cell_type": "markdown",
   "metadata": {},
   "source": [
    "### TASK 1: Request the Falcon9 Launch Wiki page from its URL\n",
    "\n",
    "First, let's perform an HTTP GET method to request the Falcon9 Launch HTML page, as an HTTP response."
   ]
  },
  {
   "cell_type": "markdown",
   "metadata": {},
   "source": [
    "Create a BeautifulSoup object from the HTML response"
   ]
  },
  {
   "cell_type": "code",
   "execution_count": null,
   "metadata": {},
   "outputs": [],
   "source": [
    "soup = BeautifulSoup(data,\"html.parser\")"
   ]
  },
  {
   "cell_type": "code",
   "execution_count": null,
   "metadata": {},
   "outputs": [],
   "source": [
    "# use requests.get() method with the provided static_url\n",
    "# assign the response to a object\n",
    "r = requests.get(static_url)\n",
    "data = r.text"
   ]
  },
  {
   "cell_type": "markdown",
   "metadata": {},
   "source": [
    "Print the page title to verify if the BeautifulSoup object was created properly"
   ]
  },
  {
   "cell_type": "code",
   "execution_count": null,
   "metadata": {
    "execution": {
     "iopub.execute_input": "2022-07-08T11:43:25.802422Z",
     "iopub.status.busy": "2022-07-08T11:43:25.802073Z",
     "iopub.status.idle": "2022-07-08T11:43:25.808539Z",
     "shell.execute_reply": "2022-07-08T11:43:25.807486Z",
     "shell.execute_reply.started": "2022-07-08T11:43:25.80239Z"
    }
   },
   "outputs": [],
   "source": [
    "print(soup.title)"
   ]
  },
  {
   "cell_type": "markdown",
   "metadata": {},
   "source": [
    "### TASK 2: Extract all column/variable names from the HTML table header\n",
    "\n",
    "Next, we want to collect all relevant column names from the HTML table header\n",
    "\n",
    "Let's try to find all tables on the wiki page first."
   ]
  },
  {
   "cell_type": "code",
   "execution_count": null,
   "metadata": {
    "execution": {
     "iopub.execute_input": "2022-07-08T11:43:25.810264Z",
     "iopub.status.busy": "2022-07-08T11:43:25.809975Z",
     "iopub.status.idle": "2022-07-08T11:43:25.856497Z",
     "shell.execute_reply": "2022-07-08T11:43:25.855608Z",
     "shell.execute_reply.started": "2022-07-08T11:43:25.810236Z"
    }
   },
   "outputs": [],
   "source": [
    "# Use the find_all function in the BeautifulSoup object, with element type `table`\n",
    "# Assign the result to a list called `html_tables`\n",
    "html_tables = soup.find_all('table')\n"
   ]
  },
  {
   "cell_type": "markdown",
   "metadata": {},
   "source": [
    "Starting from the third table is our target table contains the actual launch records"
   ]
  },
  {
   "cell_type": "code",
   "execution_count": null,
   "metadata": {
    "execution": {
     "iopub.execute_input": "2022-07-08T11:43:25.85801Z",
     "iopub.status.busy": "2022-07-08T11:43:25.857698Z",
     "iopub.status.idle": "2022-07-08T11:43:25.862685Z",
     "shell.execute_reply": "2022-07-08T11:43:25.861619Z",
     "shell.execute_reply.started": "2022-07-08T11:43:25.857985Z"
    }
   },
   "outputs": [],
   "source": [
    "# Let's print the third table and check its content\n",
    "first_launch_table = html_tables[2]\n",
    "# print(first_launch_table)"
   ]
  },
  {
   "cell_type": "markdown",
   "metadata": {},
   "source": [
    "Next, we just need to iterate through the `<th>` elements and apply the provided `extract_column_from_header()` to extract column name one by one"
   ]
  },
  {
   "cell_type": "code",
   "execution_count": null,
   "metadata": {
    "execution": {
     "iopub.execute_input": "2022-07-08T11:43:25.865019Z",
     "iopub.status.busy": "2022-07-08T11:43:25.864061Z",
     "iopub.status.idle": "2022-07-08T11:43:25.878627Z",
     "shell.execute_reply": "2022-07-08T11:43:25.877721Z",
     "shell.execute_reply.started": "2022-07-08T11:43:25.86498Z"
    }
   },
   "outputs": [],
   "source": [
    "column_names = []\n",
    "\n",
    "# Apply find_all() function with `th` element on first_launch_table\n",
    "# Iterate each th element and apply the provided extract_column_from_header() to get a column name\n",
    "# Append the Non-empty column name (`if name is not None and len(name) > 0`) into a list called column_names\n",
    "table_headers = first_launch_table.find_all('th')\n",
    "# print(table_headers)\n",
    "for j, table_header in enumerate(table_headers):\n",
    "    name = extract_column_from_header(table_header)\n",
    "    if name is not None and len(name) > 0:\n",
    "        column_names.append(name)\n",
    "    \n",
    "print(column_names)"
   ]
  },
  {
   "cell_type": "markdown",
   "metadata": {},
   "source": [
    "### TASK 3: Create a data frame by parsing the launch HTML tables\n",
    "\n",
    "We will create an empty dictionary with keys from the extracted column names in the previous task. Later, this dictionary will be converted into a Pandas dataframe"
   ]
  },
  {
   "cell_type": "code",
   "execution_count": null,
   "metadata": {
    "execution": {
     "iopub.execute_input": "2022-07-08T11:43:25.880074Z",
     "iopub.status.busy": "2022-07-08T11:43:25.879568Z",
     "iopub.status.idle": "2022-07-08T11:43:25.895599Z",
     "shell.execute_reply": "2022-07-08T11:43:25.894617Z",
     "shell.execute_reply.started": "2022-07-08T11:43:25.880033Z"
    }
   },
   "outputs": [],
   "source": [
    "launch_dict= dict.fromkeys(column_names)\n",
    "\n",
    "# Remove an irrelvant column\n",
    "del launch_dict['Date and time ( )']\n",
    "\n",
    "# Let's initial the launch_dict with each value to be an empty list\n",
    "launch_dict['Flight No.'] = []\n",
    "launch_dict['Launch site'] = []\n",
    "launch_dict['Payload'] = []\n",
    "launch_dict['Payload mass'] = []\n",
    "launch_dict['Orbit'] = []\n",
    "launch_dict['Customer'] = []\n",
    "launch_dict['Launch outcome'] = []\n",
    "# Added some new columns\n",
    "launch_dict['Version Booster']=[]\n",
    "launch_dict['Booster landing']=[]\n",
    "launch_dict['Date']=[]\n",
    "launch_dict['Time']=[]"
   ]
  },
  {
   "cell_type": "markdown",
   "metadata": {},
   "source": [
    "Next, we just need to fill up the launch_dict with launch records extracted from table rows.\n",
    "\n",
    "Usually, HTML tables in Wiki pages are likely to contain unexpected annotations and other types of noises, such as reference links B0004.1[8], missing values N/A [e], inconsistent formatting, etc.\n",
    "\n",
    "To simplify the parsing process, we have provided an incomplete code snippet below to help you to fill up the launch_dict. Please complete the following code snippet with TODOs or you can choose to write your own logic to parse all launch tables:"
   ]
  },
  {
   "cell_type": "code",
   "execution_count": null,
   "metadata": {
    "execution": {
     "iopub.execute_input": "2022-07-08T11:43:25.900092Z",
     "iopub.status.busy": "2022-07-08T11:43:25.897388Z",
     "iopub.status.idle": "2022-07-08T11:43:26.084076Z",
     "shell.execute_reply": "2022-07-08T11:43:26.082977Z",
     "shell.execute_reply.started": "2022-07-08T11:43:25.900043Z"
    }
   },
   "outputs": [],
   "source": [
    "extracted_row = 0\n",
    "for table_number,table in enumerate(soup.find_all('table',\"wikitable plainrowheaders collapsible\")):\n",
    "    for rows in table.find_all(\"tr\"):  # get table row \n",
    "        if rows.th:  #check to see if first table heading is a number corresponding to launch a number\n",
    "            if rows.th.string:\n",
    "                flight_number=rows.th.string.strip()\n",
    "                flag=flight_number.isdigit()\n",
    "        else:\n",
    "            flag=False\n",
    "        row=rows.find_all('td')  # #get table element\n",
    "        if flag:  #if it is number save cells in a dictonary \n",
    "            extracted_row += 1\n",
    "            # Flight Number value\n",
    "            # TODO: Append the flight_number into launch_dict with key `Flight No.`\n",
    "            launch_dict['Flight No.'].append(flight_number)\n",
    "            # print(flight_number)\n",
    "            datatimelist=date_time(row[0])\n",
    "            \n",
    "            # Date value\n",
    "            # TODO: Append the date into launch_dict with key `Date`\n",
    "            date = datatimelist[0].strip(',')\n",
    "            launch_dict['Date'].append(date)\n",
    "            # print(date)\n",
    "            \n",
    "            # Time value\n",
    "            # TODO: Append the time into launch_dict with key `Time`\n",
    "            time = datatimelist[1]\n",
    "            launch_dict['Time'].append(time)\n",
    "            # print(time)\n",
    "              \n",
    "            # Booster version\n",
    "            # TODO: Append the bv into launch_dict with key `Version Booster`\n",
    "            bv=booster_version(row[1])\n",
    "            if not(bv):\n",
    "                bv=row[1].a.string\n",
    "            launch_dict['Version Booster'].append(bv)\n",
    "            # print(bv)\n",
    "            \n",
    "            # Launch Site\n",
    "            # TODO: Append the bv into launch_dict with key `Launch Site`\n",
    "            launch_site = row[2].a.string\n",
    "            launch_dict['Launch site'].append(launch_site)\n",
    "            # print(launch_site)\n",
    "            \n",
    "            # Payload\n",
    "            # TODO: Append the payload into launch_dict with key `Payload`\n",
    "            payload = row[3].a.string\n",
    "            launch_dict['Payload'].append(payload)\n",
    "            # print(payload)\n",
    "            \n",
    "            # Payload Mass\n",
    "            # TODO: Append the payload_mass into launch_dict with key `Payload mass`\n",
    "            payload_mass = get_mass(row[4])\n",
    "            launch_dict['Payload mass'].append(payload_mass)\n",
    "            # print(payload)\n",
    "            \n",
    "            # Orbit\n",
    "            # TODO: Append the orbit into launch_dict with key `Orbit`\n",
    "            orbit = row[5].a.string\n",
    "            launch_dict['Orbit'].append(orbit)\n",
    "            # print(orbit)\n",
    "            \n",
    "            # Customer\n",
    "            # TODO: Append the customer into launch_dict with key `Customer`\n",
    "            try:\n",
    "                customer = row[6].a.string\n",
    "            except:\n",
    "                customer = \"None\"\n",
    "\n",
    "            launch_dict['Customer'].append(customer)\n",
    "            # print(customer)\n",
    "            \n",
    "            # Launch outcome\n",
    "            # TODO: Append the launch_outcome into launch_dict with key `Launch outcome`\n",
    "            launch_outcome = list(row[7].strings)[0]\n",
    "            launch_dict['Launch outcome'].append(launch_outcome)\n",
    "            # print(launch_outcome)\n",
    "            \n",
    "            # Booster landing\n",
    "            # TODO: Append the launch_outcome into launch_dict with key `Booster landing`\n",
    "            booster_landing = landing_status(row[8])\n",
    "            launch_dict['Booster landing'].append(booster_landing)\n",
    "            # print(booster_landing)\n",
    "            \n",
    "            # debugging: find length differences\n",
    "            # print(\"---------------------------\")\n",
    "            # curr_len = [len(val) for key, val in launch_dict.items()]\n",
    "            # print(curr_len)\n",
    "            # print(\"---------------------------\")\n",
    "print(\"number of extracted rows: \", extracted_row)"
   ]
  },
  {
   "cell_type": "markdown",
   "metadata": {},
   "source": [
    "After we have filled in the parsed launch record values into launch_dict, we can create a dataframe from it."
   ]
  },
  {
   "cell_type": "code",
   "execution_count": null,
   "metadata": {
    "execution": {
     "iopub.execute_input": "2022-07-08T11:43:26.087198Z",
     "iopub.status.busy": "2022-07-08T11:43:26.08684Z",
     "iopub.status.idle": "2022-07-08T11:43:26.092851Z",
     "shell.execute_reply": "2022-07-08T11:43:26.091818Z",
     "shell.execute_reply.started": "2022-07-08T11:43:26.087166Z"
    }
   },
   "outputs": [],
   "source": [
    "df=pd.DataFrame(launch_dict)"
   ]
  },
  {
   "cell_type": "code",
   "execution_count": null,
   "metadata": {
    "execution": {
     "iopub.execute_input": "2022-07-08T11:43:26.094661Z",
     "iopub.status.busy": "2022-07-08T11:43:26.094282Z",
     "iopub.status.idle": "2022-07-08T11:43:26.105984Z",
     "shell.execute_reply": "2022-07-08T11:43:26.104649Z",
     "shell.execute_reply.started": "2022-07-08T11:43:26.094624Z"
    }
   },
   "outputs": [],
   "source": [
    "# debugging: checking length of lists in dictionary \n",
    "for key, val in launch_dict.items():\n",
    "    print(f\"{key}: #: {len(val)}\")\n"
   ]
  },
  {
   "cell_type": "code",
   "execution_count": null,
   "metadata": {
    "execution": {
     "iopub.execute_input": "2022-07-08T11:43:26.118134Z",
     "iopub.status.busy": "2022-07-08T11:43:26.117196Z",
     "iopub.status.idle": "2022-07-08T11:43:26.121998Z",
     "shell.execute_reply": "2022-07-08T11:43:26.121135Z",
     "shell.execute_reply.started": "2022-07-08T11:43:26.118101Z"
    }
   },
   "outputs": [],
   "source": [
    "# df.to_csv('spacex_web_scraped.csv', index=False)\n",
    "df_scraped = df"
   ]
  },
  {
   "cell_type": "markdown",
   "metadata": {},
   "source": [
    "<p id=\"assignmentwrang\" />\n",
    "\n",
    "## Lab 3: Data Wrangling\n",
    "\n",
    "In this lab, we will perform some Exploratory Data Analysis (EDA) to find some patterns in the data and determine what would be the label for training supervised models.\n",
    "\n",
    "In the data set, there are several different cases where the booster did not land successfully. Sometimes a landing was attempted but failed due to an accident; for example, True Ocean means the mission outcome was successfully landed to a specific region of the ocean while False Ocean means the mission outcome was unsuccessfully landed to a specific region of the ocean. True RTLS means the mission outcome was successfully landed to a ground pad False RTLS means the mission outcome was unsuccessfully landed to a ground pad.True ASDS means the mission outcome was successfully landed on a drone ship False ASDS means the mission outcome was unsuccessfully landed on a drone ship.\n",
    "\n",
    "In this lab we will mainly convert those outcomes into Training Labels with 1 means the booster successfully landed 0 means it was unsuccessful."
   ]
  },
  {
   "cell_type": "code",
   "execution_count": null,
   "metadata": {
    "execution": {
     "iopub.execute_input": "2022-07-08T11:43:26.123395Z",
     "iopub.status.busy": "2022-07-08T11:43:26.123031Z",
     "iopub.status.idle": "2022-07-08T11:43:26.152515Z",
     "shell.execute_reply": "2022-07-08T11:43:26.151617Z",
     "shell.execute_reply.started": "2022-07-08T11:43:26.123373Z"
    }
   },
   "outputs": [],
   "source": [
    "# df=pd.read_csv(\"https://cf-courses-data.s3.us.cloud-object-storage.appdomain.cloud/IBM-DS0321EN-SkillsNetwork/datasets/dataset_part_1.csv\")\n",
    "df = data_falcon9\n",
    "print(df.head(10))\n",
    "# Identify and calculate the percentage of the missing values in each attribute\n",
    "print(df.isnull().sum()/df.count()*100)\n",
    "# Identify which columns are numerical and categorical:\n",
    "print(df.dtypes)\n"
   ]
  },
  {
   "cell_type": "markdown",
   "metadata": {},
   "source": [
    "### TASK 1: Calculate the number of launches on each site\n",
    "The data contains several Space X launch facilities: Cape Canaveral Space Launch Complex 40 VAFB SLC 4E , Vandenberg Air Force Base Space Launch Complex 4E (SLC-4E), Kennedy Space Center Launch Complex 39A KSC LC 39A .The location of each Launch Is placed in the column LaunchSite\n",
    "\n",
    "Next, let's see the number of launches for each site."
   ]
  },
  {
   "cell_type": "code",
   "execution_count": null,
   "metadata": {
    "execution": {
     "iopub.execute_input": "2022-07-08T11:43:26.155251Z",
     "iopub.status.busy": "2022-07-08T11:43:26.154337Z",
     "iopub.status.idle": "2022-07-08T11:43:26.164408Z",
     "shell.execute_reply": "2022-07-08T11:43:26.16357Z",
     "shell.execute_reply.started": "2022-07-08T11:43:26.155204Z"
    }
   },
   "outputs": [],
   "source": [
    "df['LaunchSite'].value_counts()"
   ]
  },
  {
   "cell_type": "markdown",
   "metadata": {},
   "source": [
    "Each launch aims to an dedicated orbit, and here are some common orbit types:\n",
    "- LEO: Low Earth orbit (LEO)is an Earth-centred orbit with an altitude of 2,000 km (1,200 mi) or less (approximately one-third of the radius of Earth), or with at least 11.25 periods per day (an orbital period of 128 minutes or less) and an eccentricity less than 0.25.[2] Most of the manmade objects in outer space are in LEO.\n",
    "- VLEO: Very Low Earth Orbits (VLEO) can be defined as the orbits with a mean altitude below 450 km. Operating in these orbits can provide a number of benefits to Earth observation spacecraft as the spacecraft operates closer to the observation.\n",
    "- GTO A geosynchronous orbit is a high Earth orbit that allows satellites to match Earth's rotation. Located at 22,236 miles (35,786 kilometers) above Earth's equator, this position is a valuable spot for monitoring weather, communications and surveillance. Because the satellite orbits at the same speed that the Earth is turning, the satellite seems to stay in place over a single longitude, though it may drift north to south,” NASA wrote on its Earth Observatory website.\n",
    "- SSO (or SO): It is a Sun-synchronous orbit also called a heliosynchronous orbit is a nearly polar orbit around a planet, in which the satellite passes over any given point of the planet's surface at the same local mean solar time.\n",
    "- ES-L1 :At the Lagrange points the gravitational forces of the two large bodies cancel out in such a way that a small object placed in orbit there is in equilibrium relative to the center of mass of the large bodies. L1 is one such point between the sun and the earth [5] .\n",
    "- HEO A highly elliptical orbit, is an elliptic orbit with high eccentricity, usually referring to one around Earth.\n",
    "- ISS A modular space station (habitable artificial satellite) in low Earth orbit. It is a multinational collaborative project between five participating space agencies: NASA (United States), Roscosmos (Russia), JAXA (Japan), ESA (Europe), and CSA (Canada)\n",
    "- MEO Geocentric orbits ranging in altitude from 2,000 km (1,200 mi) to just below geosynchronous orbit at 35,786 kilometers (22,236 mi). Also known as an intermediate circular orbit. These are \"most commonly at 20,200 kilometers (12,600 mi), or 20,650 kilometers (12,830 mi), with an orbital period of 12 hours\n",
    "- HEO Geocentric orbits above the altitude of geosynchronous orbit (35,786 km or 22,236 mi) [9]\n",
    "- GEO It is a circular geosynchronous orbit 35,786 kilometres (22,236 miles) above Earth's equator and following the direction of Earth's rotation\n",
    "- PO It is one type of satellites in which a satellite passes above or nearly above both poles of the body being orbited (usually a planet such as the Earth"
   ]
  },
  {
   "cell_type": "markdown",
   "metadata": {
    "execution": {
     "iopub.execute_input": "2022-07-08T09:26:56.420371Z",
     "iopub.status.busy": "2022-07-08T09:26:56.419731Z",
     "iopub.status.idle": "2022-07-08T09:26:56.425982Z",
     "shell.execute_reply": "2022-07-08T09:26:56.425104Z",
     "shell.execute_reply.started": "2022-07-08T09:26:56.420341Z"
    }
   },
   "source": [
    "### TASK 2: Calculate the number and occurrence of each orbit"
   ]
  },
  {
   "cell_type": "code",
   "execution_count": null,
   "metadata": {
    "execution": {
     "iopub.execute_input": "2022-07-08T11:43:26.166828Z",
     "iopub.status.busy": "2022-07-08T11:43:26.165555Z",
     "iopub.status.idle": "2022-07-08T11:43:26.179335Z",
     "shell.execute_reply": "2022-07-08T11:43:26.178401Z",
     "shell.execute_reply.started": "2022-07-08T11:43:26.166687Z"
    }
   },
   "outputs": [],
   "source": [
    "df['Orbit'].value_counts()"
   ]
  },
  {
   "cell_type": "markdown",
   "metadata": {},
   "source": [
    "### TASK 3: Calculate the number and occurence of mission outcome per orbit type\n",
    "Use the method .value_counts() on the column Outcome to determine the number of landing_outcomes.Then assign it to a variable landing_outcomes."
   ]
  },
  {
   "cell_type": "code",
   "execution_count": null,
   "metadata": {
    "execution": {
     "iopub.execute_input": "2022-07-08T11:43:26.180751Z",
     "iopub.status.busy": "2022-07-08T11:43:26.180458Z",
     "iopub.status.idle": "2022-07-08T11:43:26.195176Z",
     "shell.execute_reply": "2022-07-08T11:43:26.194331Z",
     "shell.execute_reply.started": "2022-07-08T11:43:26.180725Z"
    }
   },
   "outputs": [],
   "source": [
    "landing_outcomes = df['Outcome'].value_counts()\n",
    "landing_outcomes"
   ]
  },
  {
   "cell_type": "markdown",
   "metadata": {},
   "source": [
    "<code>True Ocean</code> means the mission outcome was successfully  landed to a specific region of the ocean while <code>False Ocean</code> means the mission outcome was unsuccessfully landed to a specific region of the ocean. <code>True RTLS</code> means the mission outcome was successfully  landed to a ground pad <code>False RTLS</code> means the mission outcome was unsuccessfully landed to a ground pad.<code>True ASDS</code> means the mission outcome was successfully  landed to a drone ship <code>False ASDS</code> means the mission outcome was unsuccessfully landed to a drone ship. <code>None ASDS</code> and <code>None None</code> these represent a failure to land.\n"
   ]
  },
  {
   "cell_type": "code",
   "execution_count": null,
   "metadata": {
    "execution": {
     "iopub.execute_input": "2022-07-08T11:43:26.20073Z",
     "iopub.status.busy": "2022-07-08T11:43:26.198077Z",
     "iopub.status.idle": "2022-07-08T11:43:26.211476Z",
     "shell.execute_reply": "2022-07-08T11:43:26.209949Z",
     "shell.execute_reply.started": "2022-07-08T11:43:26.200666Z"
    }
   },
   "outputs": [],
   "source": [
    "for i,outcome in enumerate(landing_outcomes.keys()):\n",
    "    print(i,outcome)"
   ]
  },
  {
   "cell_type": "code",
   "execution_count": null,
   "metadata": {
    "execution": {
     "iopub.execute_input": "2022-07-08T11:43:26.214466Z",
     "iopub.status.busy": "2022-07-08T11:43:26.213525Z",
     "iopub.status.idle": "2022-07-08T11:43:26.232286Z",
     "shell.execute_reply": "2022-07-08T11:43:26.23047Z",
     "shell.execute_reply.started": "2022-07-08T11:43:26.214397Z"
    }
   },
   "outputs": [],
   "source": [
    "# We create a set of outcomes where the second stage did not land successfully:\n",
    "bad_outcomes=set(landing_outcomes.keys()[[1,3,5,6,7]])\n",
    "bad_outcomes"
   ]
  },
  {
   "cell_type": "markdown",
   "metadata": {},
   "source": [
    "### TASK 4: Create a landing outcome label from Outcome column\n",
    "\n",
    "Using the <code>Outcome</code>, we create a list where the element is zero if the corresponding  row  in  <code>Outcome</code> is in the set <code>bad_outcome</code>; otherwise, it's one. Then assign it to the variable <code>landing_class</code>:"
   ]
  },
  {
   "cell_type": "code",
   "execution_count": null,
   "metadata": {
    "execution": {
     "iopub.execute_input": "2022-07-08T11:43:26.235799Z",
     "iopub.status.busy": "2022-07-08T11:43:26.234894Z",
     "iopub.status.idle": "2022-07-08T11:43:26.267499Z",
     "shell.execute_reply": "2022-07-08T11:43:26.265575Z",
     "shell.execute_reply.started": "2022-07-08T11:43:26.235703Z"
    }
   },
   "outputs": [],
   "source": [
    "landing_class = [0 if x in bad_outcomes else 1 for x in df['Outcome']]\n",
    "# landing_class\n",
    "df['Class']=landing_class\n",
    "print(df[['Class']].head(8))\n",
    "print(df[\"Class\"].mean())  # probability of positive outcome 2/3\n",
    "print(df.head(5))\n"
   ]
  },
  {
   "cell_type": "code",
   "execution_count": null,
   "metadata": {
    "execution": {
     "iopub.execute_input": "2022-07-08T11:43:26.270376Z",
     "iopub.status.busy": "2022-07-08T11:43:26.269704Z",
     "iopub.status.idle": "2022-07-08T11:43:26.286809Z",
     "shell.execute_reply": "2022-07-08T11:43:26.284868Z",
     "shell.execute_reply.started": "2022-07-08T11:43:26.270328Z"
    }
   },
   "outputs": [],
   "source": [
    "#df.to_csv(\"dataset_part_2.csv\", index=False)\n",
    "df_wrangled = df"
   ]
  },
  {
   "cell_type": "markdown",
   "metadata": {},
   "source": [
    "## Lab 4: Analysis with SQL\n",
    "\n",
    "Note: the original IBM Lab would use IBM Watson with DB2 as database. We will use SQLite3 instead.\n",
    "\n",
    "The original DB2 instruction can be viewed [here](https://jp-tok.dataplatform.cloud.ibm.com/analytics/notebooks/v2/32f936b3-5cb3-4145-ab62-875e4ec8990f?projectid=884b3943-1b67-4616-bb80-89fdd4e2bbdf&context=cpdaas) (requires login)"
   ]
  },
  {
   "cell_type": "markdown",
   "metadata": {},
   "source": [
    "<p id=\"assignmentsql\" />\n",
    "\n",
    "## Assignment: SQL Notebook for Peer Assignment\n",
    "\n",
    "Introduction\n",
    "Using this Python notebook you will:\n",
    "\n",
    "Understand the Spacex DataSet\n",
    "Load the dataset into the corresponding table in a Db2 database\n",
    "Execute SQL queries to answer assignment questions\n",
    "\n",
    "### Overview of the DataSet\n",
    "SpaceX has gained worldwide attention for a series of historic milestones.\n",
    "\n",
    "It is the only private company ever to return a spacecraft from low-earth orbit, which it first accomplished in December 2010. SpaceX advertises Falcon 9 rocket launches on its website with a cost of 62 million dollars wheras other providers cost upward of 165 million dollars each, much of the savings is because Space X can reuse the first stage.\n",
    "\n",
    "Therefore if we can determine if the first stage will land, we can determine the cost of a launch.\n",
    "\n",
    "This information can be used if an alternate company wants to bid against SpaceX for a rocket launch.\n",
    "\n",
    "This dataset includes a record for each payload carried during a SpaceX mission into outer space.\n",
    "\n",
    "### Download the datasets\n",
    "\n",
    "This assignment requires you to load the spacex dataset.\n",
    "\n",
    "In many cases the dataset to be analyzed is available as a .CSV (comma separated values) file, perhaps on the internet. Click on the link below to download and save the dataset (.CSV file):\n",
    "\n",
    "<a href=\"https://cf-courses-data.s3.us.cloud-object-storage.appdomain.cloud/IBM-DS0321EN-SkillsNetwork/labs/module_2/data/Spacex.csv?utm_medium=Exinfluencer&utm_source=Exinfluencer&utm_content=000026UJ&utm_term=10006555&utm_id=NA-SkillsNetwork-Channel-SkillsNetworkCoursesIBMDS0321ENSkillsNetwork26802033-2022-01-01\" target=\"_blank\">Spacex DataSet</a>"
   ]
  },
  {
   "cell_type": "code",
   "execution_count": null,
   "metadata": {
    "execution": {
     "iopub.execute_input": "2022-07-08T11:43:26.290684Z",
     "iopub.status.busy": "2022-07-08T11:43:26.29001Z",
     "iopub.status.idle": "2022-07-08T11:43:26.308757Z",
     "shell.execute_reply": "2022-07-08T11:43:26.307472Z",
     "shell.execute_reply.started": "2022-07-08T11:43:26.290621Z"
    }
   },
   "outputs": [],
   "source": [
    "import sqlite3\n",
    "import pandas as pd\n",
    "print(sqlite3.version)\n",
    "print(sqlite3.sqlite_version)"
   ]
  },
  {
   "cell_type": "markdown",
   "metadata": {},
   "source": [
    "### Load dataset, prepare and store it in database table\n",
    "\n",
    "Change the Date Format by manually typing DD-MM-YYYY and timestamp format as DD-MM-YYYY HH:MM:SS.\n",
    "\n",
    "Here you should place the cursor at Date field and manually type as DD-MM-YYYY.\n",
    "\n",
    "Change the PAYLOAD_MASS__KG_ datatype to INTEGER.\n"
   ]
  },
  {
   "cell_type": "code",
   "execution_count": null,
   "metadata": {
    "execution": {
     "iopub.execute_input": "2022-07-08T11:43:26.310971Z",
     "iopub.status.busy": "2022-07-08T11:43:26.310578Z",
     "iopub.status.idle": "2022-07-08T11:43:27.507562Z",
     "shell.execute_reply": "2022-07-08T11:43:27.506544Z",
     "shell.execute_reply.started": "2022-07-08T11:43:26.310943Z"
    }
   },
   "outputs": [],
   "source": [
    "# get dataset into pandas dataframe\n",
    "url = \"https://cf-courses-data.s3.us.cloud-object-storage.appdomain.cloud/IBM-DS0321EN-SkillsNetwork/labs/module_2/data/Spacex.csv?utm_medium=Exinfluencer&utm_source=Exinfluencer&utm_content=000026UJ&utm_term=10006555&utm_id=NA-SkillsNetwork-Channel-SkillsNetworkCoursesIBMDS0321ENSkillsNetwork26802033-2022-01-01\"\n",
    "df = pd.read_csv(url)\n",
    "# remove spaces in columns name\n",
    "df.columns = df.columns.str.replace(' ','_')\n",
    "\n",
    "# convert timestamp strings to date and time format\n",
    "df['Date'] = pd.to_datetime(df['Date'], errors=\"coerce\", format=\"%d-%m-%Y\")\n",
    "\n",
    "print(df.dtypes)\n",
    "print(df.head())\n",
    "\n"
   ]
  },
  {
   "cell_type": "code",
   "execution_count": null,
   "metadata": {
    "execution": {
     "iopub.execute_input": "2022-07-08T11:43:27.509687Z",
     "iopub.status.busy": "2022-07-08T11:43:27.508926Z",
     "iopub.status.idle": "2022-07-08T11:43:27.542166Z",
     "shell.execute_reply": "2022-07-08T11:43:27.541304Z",
     "shell.execute_reply.started": "2022-07-08T11:43:27.509656Z"
    }
   },
   "outputs": [],
   "source": [
    "# create sqlite table and upload data into it\n",
    "conn = sqlite3.connect(':memory:')  # in memory database\n",
    "df.to_sql(name=\"spacexdata\", con=conn, if_exists=\"replace\")\n",
    "\n",
    "q = pd.read_sql('select * from spacexdata', conn)\n",
    "q"
   ]
  },
  {
   "cell_type": "markdown",
   "metadata": {},
   "source": [
    "## Tasks\n",
    "\n",
    "Now we write and execute SQL queries to solve the assignment tasks.\n",
    "\n",
    "### Task 1\n",
    "Display the names of the unique launch sites in the space mission"
   ]
  },
  {
   "cell_type": "code",
   "execution_count": null,
   "metadata": {
    "execution": {
     "iopub.execute_input": "2022-07-08T11:43:27.544678Z",
     "iopub.status.busy": "2022-07-08T11:43:27.543426Z",
     "iopub.status.idle": "2022-07-08T11:43:27.555308Z",
     "shell.execute_reply": "2022-07-08T11:43:27.554193Z",
     "shell.execute_reply.started": "2022-07-08T11:43:27.544638Z"
    }
   },
   "outputs": [],
   "source": [
    "q = pd.read_sql('select distinct Launch_Site from spacexdata', conn)\n",
    "q"
   ]
  },
  {
   "cell_type": "markdown",
   "metadata": {},
   "source": [
    "### Task 2\n",
    "Display 5 records where launch sites begin with the string 'CCA'¶"
   ]
  },
  {
   "cell_type": "code",
   "execution_count": null,
   "metadata": {
    "execution": {
     "iopub.execute_input": "2022-07-08T11:43:27.557255Z",
     "iopub.status.busy": "2022-07-08T11:43:27.556883Z",
     "iopub.status.idle": "2022-07-08T11:43:27.588666Z",
     "shell.execute_reply": "2022-07-08T11:43:27.587314Z",
     "shell.execute_reply.started": "2022-07-08T11:43:27.557216Z"
    }
   },
   "outputs": [],
   "source": [
    "q = pd.read_sql(\"select * from spacexdata where Launch_Site like 'CCA%' limit 5\", conn)\n",
    "q"
   ]
  },
  {
   "cell_type": "markdown",
   "metadata": {},
   "source": [
    "### Task 3\n",
    "Display the total payload mass carried by boosters launched by NASA (CRS)"
   ]
  },
  {
   "cell_type": "code",
   "execution_count": null,
   "metadata": {
    "execution": {
     "iopub.execute_input": "2022-07-08T11:43:27.590341Z",
     "iopub.status.busy": "2022-07-08T11:43:27.590025Z",
     "iopub.status.idle": "2022-07-08T11:43:27.600054Z",
     "shell.execute_reply": "2022-07-08T11:43:27.598705Z",
     "shell.execute_reply.started": "2022-07-08T11:43:27.590313Z"
    }
   },
   "outputs": [],
   "source": [
    "q = pd.read_sql(\"select sum(PAYLOAD_MASS__KG_) from spacexdata where Customer='NASA (CRS)'\", conn)\n",
    "q"
   ]
  },
  {
   "cell_type": "markdown",
   "metadata": {},
   "source": [
    "### Task 4\n",
    "Display average payload mass carried by booster version F9 v1.1"
   ]
  },
  {
   "cell_type": "code",
   "execution_count": null,
   "metadata": {
    "execution": {
     "iopub.execute_input": "2022-07-08T11:43:27.602883Z",
     "iopub.status.busy": "2022-07-08T11:43:27.601654Z",
     "iopub.status.idle": "2022-07-08T11:43:27.613357Z",
     "shell.execute_reply": "2022-07-08T11:43:27.611809Z",
     "shell.execute_reply.started": "2022-07-08T11:43:27.602842Z"
    }
   },
   "outputs": [],
   "source": [
    "q = pd.read_sql(\"select avg(PAYLOAD_MASS__KG_) from spacexdata where Booster_Version='F9 v1.1'\", conn)\n",
    "q"
   ]
  },
  {
   "cell_type": "markdown",
   "metadata": {},
   "source": [
    "### Task 5\n",
    "List the date when the first successful landing outcome in ground pad was acheived."
   ]
  },
  {
   "cell_type": "code",
   "execution_count": null,
   "metadata": {
    "execution": {
     "iopub.execute_input": "2022-07-08T11:43:27.616488Z",
     "iopub.status.busy": "2022-07-08T11:43:27.615986Z",
     "iopub.status.idle": "2022-07-08T11:43:27.628736Z",
     "shell.execute_reply": "2022-07-08T11:43:27.626496Z",
     "shell.execute_reply.started": "2022-07-08T11:43:27.616452Z"
    }
   },
   "outputs": [],
   "source": [
    "q = pd.read_sql(\"select min(Date) from spacexdata where Landing__Outcome='Success (ground pad)'\", conn)\n",
    "q"
   ]
  },
  {
   "cell_type": "markdown",
   "metadata": {},
   "source": [
    "### Task 6\n",
    "List the names of the boosters which have success in drone ship and have payload mass greater than 4000 but less than 6000"
   ]
  },
  {
   "cell_type": "code",
   "execution_count": null,
   "metadata": {
    "execution": {
     "iopub.execute_input": "2022-07-08T11:43:27.632323Z",
     "iopub.status.busy": "2022-07-08T11:43:27.630829Z",
     "iopub.status.idle": "2022-07-08T11:43:27.646981Z",
     "shell.execute_reply": "2022-07-08T11:43:27.645712Z",
     "shell.execute_reply.started": "2022-07-08T11:43:27.632269Z"
    }
   },
   "outputs": [],
   "source": [
    "q = pd.read_sql(\"select distinct Booster_Version from spacexdata where Landing__Outcome='Success (drone ship)' and PAYLOAD_MASS__KG_ between 4000 and 6000\", conn)\n",
    "q"
   ]
  },
  {
   "cell_type": "markdown",
   "metadata": {},
   "source": [
    "### Task 7\n",
    "List the total number of successful and failure mission outcomes"
   ]
  },
  {
   "cell_type": "code",
   "execution_count": null,
   "metadata": {
    "execution": {
     "iopub.execute_input": "2022-07-08T11:43:27.648923Z",
     "iopub.status.busy": "2022-07-08T11:43:27.648521Z",
     "iopub.status.idle": "2022-07-08T11:43:27.66236Z",
     "shell.execute_reply": "2022-07-08T11:43:27.661236Z",
     "shell.execute_reply.started": "2022-07-08T11:43:27.648888Z"
    }
   },
   "outputs": [],
   "source": [
    "q = pd.read_sql(\"select substr(Mission_Outcome,1,7) as Mission_Outcome, count(*) from spacexdata  group by 1\", conn)\n",
    "q\n"
   ]
  },
  {
   "cell_type": "markdown",
   "metadata": {},
   "source": [
    "### Task 8\n",
    "List the names of the booster_versions which have carried the maximum payload mass. Use a subquery"
   ]
  },
  {
   "cell_type": "code",
   "execution_count": null,
   "metadata": {
    "execution": {
     "iopub.execute_input": "2022-07-08T11:43:27.664173Z",
     "iopub.status.busy": "2022-07-08T11:43:27.663851Z",
     "iopub.status.idle": "2022-07-08T11:43:27.677046Z",
     "shell.execute_reply": "2022-07-08T11:43:27.675593Z",
     "shell.execute_reply.started": "2022-07-08T11:43:27.664142Z"
    }
   },
   "outputs": [],
   "source": [
    "q = pd.read_sql(\"select distinct Booster_Version from spacexdata where PAYLOAD_MASS__KG_ = (select max(PAYLOAD_MASS__KG_) from spacexdata)\", conn)\n",
    "q"
   ]
  },
  {
   "cell_type": "markdown",
   "metadata": {},
   "source": [
    "### Task 9\n",
    "List the failed landing_outcomes in drone ship, their booster versions, and launch site names for in year 2015"
   ]
  },
  {
   "cell_type": "code",
   "execution_count": null,
   "metadata": {
    "execution": {
     "iopub.execute_input": "2022-07-08T11:43:27.678811Z",
     "iopub.status.busy": "2022-07-08T11:43:27.678242Z",
     "iopub.status.idle": "2022-07-08T11:43:27.691652Z",
     "shell.execute_reply": "2022-07-08T11:43:27.690488Z",
     "shell.execute_reply.started": "2022-07-08T11:43:27.678744Z"
    }
   },
   "outputs": [],
   "source": [
    "q = pd.read_sql(\"select distinct Landing__Outcome, Booster_Version, Launch_Site from spacexdata where Landing__Outcome='Failure (drone ship)'\", conn)\n",
    "q\n",
    "\n"
   ]
  },
  {
   "cell_type": "markdown",
   "metadata": {},
   "source": [
    "### Task 10\n",
    "Rank the count of landing outcomes (such as Failure (drone ship) or Success (ground pad)) between the date 2010-06-04 and 2017-03-20, in descending order"
   ]
  },
  {
   "cell_type": "code",
   "execution_count": null,
   "metadata": {
    "execution": {
     "iopub.execute_input": "2022-07-08T11:43:27.693993Z",
     "iopub.status.busy": "2022-07-08T11:43:27.693552Z",
     "iopub.status.idle": "2022-07-08T11:43:27.712514Z",
     "shell.execute_reply": "2022-07-08T11:43:27.711046Z",
     "shell.execute_reply.started": "2022-07-08T11:43:27.693955Z"
    }
   },
   "outputs": [],
   "source": [
    "q = pd.read_sql(\"select Landing__Outcome, count(*) from spacexdata where Date between '2011-06-04' and '2017-03-20' group by Landing__Outcome order by 2 desc\", conn)\n",
    "q"
   ]
  },
  {
   "cell_type": "markdown",
   "metadata": {
    "execution": {
     "iopub.execute_input": "2022-07-05T08:35:09.657329Z",
     "iopub.status.busy": "2022-07-05T08:35:09.656984Z",
     "iopub.status.idle": "2022-07-05T08:35:09.663581Z",
     "shell.execute_reply": "2022-07-05T08:35:09.662058Z",
     "shell.execute_reply.started": "2022-07-05T08:35:09.657299Z"
    }
   },
   "source": [
    "<p id=\"assignmentviz\" />\n",
    "\n",
    "## Lab 5: Assignment: Exploring and Preparing Data\n",
    "\n",
    "Assignment: Exploring and Preparing Data\n",
    "\n",
    "In this assignment, we will predict if the Falcon 9 first stage will land successfully. SpaceX advertises Falcon 9 rocket launches on its website with a cost of 62 million dollars; other providers cost upward of 165 million dollars each, much of the savings is due to the fact that SpaceX can reuse the first stage.\n",
    "\n",
    "In this lab, we will perform Exploratory Data Analysis and Feature Engineering.\n",
    "\n"
   ]
  },
  {
   "cell_type": "code",
   "execution_count": null,
   "metadata": {
    "execution": {
     "iopub.execute_input": "2022-07-08T11:43:27.714901Z",
     "iopub.status.busy": "2022-07-08T11:43:27.713861Z",
     "iopub.status.idle": "2022-07-08T11:43:28.109518Z",
     "shell.execute_reply": "2022-07-08T11:43:28.108404Z",
     "shell.execute_reply.started": "2022-07-08T11:43:27.714863Z"
    }
   },
   "outputs": [],
   "source": [
    "import pandas as pd\n",
    "import numpy as np\n",
    "import matplotlib.pyplot as plt\n",
    "import seaborn as sns"
   ]
  },
  {
   "cell_type": "markdown",
   "metadata": {},
   "source": [
    "### Exploratory Data Analysis\n",
    "First, let's read the SpaceX dataset into a Pandas dataframe and print its summary"
   ]
  },
  {
   "cell_type": "markdown",
   "metadata": {},
   "source": []
  },
  {
   "cell_type": "code",
   "execution_count": null,
   "metadata": {
    "execution": {
     "iopub.execute_input": "2022-07-08T11:43:28.111206Z",
     "iopub.status.busy": "2022-07-08T11:43:28.110921Z",
     "iopub.status.idle": "2022-07-08T11:43:28.134852Z",
     "shell.execute_reply": "2022-07-08T11:43:28.13357Z",
     "shell.execute_reply.started": "2022-07-08T11:43:28.111181Z"
    }
   },
   "outputs": [],
   "source": [
    "df = df_wrangled\n",
    "# If you were unable to complete the previous lab correctly you can uncomment and load this csv\n",
    "# df = pd.read_csv('https://cf-courses-data.s3.us.cloud-object-storage.appdomain.cloud/IBMDeveloperSkillsNetwork-DS0701EN-SkillsNetwork/api/dataset_part_2.csv')\n",
    "df.head(5)"
   ]
  },
  {
   "cell_type": "markdown",
   "metadata": {},
   "source": [
    "First, let's try to see how the `FlightNumber` (indicating the continuous launch attempts.) and `Payload` variables would affect the launch outcome.\n",
    "\n",
    "We can plot out the <code>FlightNumber</code> vs. <code>PayloadMass</code>and overlay the outcome of the launch. We see that as the flight number increases, the first stage is more likely to land successfully. The payload mass is also important; it seems the more massive the payload, the less likely the first stage will return.\n"
   ]
  },
  {
   "cell_type": "code",
   "execution_count": null,
   "metadata": {
    "execution": {
     "iopub.execute_input": "2022-07-08T11:43:28.136683Z",
     "iopub.status.busy": "2022-07-08T11:43:28.136135Z",
     "iopub.status.idle": "2022-07-08T11:43:44.148259Z",
     "shell.execute_reply": "2022-07-08T11:43:44.147508Z",
     "shell.execute_reply.started": "2022-07-08T11:43:28.136654Z"
    }
   },
   "outputs": [],
   "source": [
    "sns.catplot(y=\"PayloadMass\", x=\"FlightNumber\", hue=\"Class\", data=df, aspect=2.5)\n",
    "plt.xlabel(\"Flight Number\", fontsize=20)\n",
    "plt.ylabel(\"Payload Mass (kg)\", fontsize=20)\n",
    "plt.show()"
   ]
  },
  {
   "cell_type": "markdown",
   "metadata": {},
   "source": [
    "We see that different launch sites have different success rates.  <code>CCAFS LC-40</code>, has a success rate of 60 %, while  <code>KSC LC-39A</code> and <code>VAFB SLC 4E</code> has a success rate of 77%.\n",
    "\n",
    "Next, let's drill down to each site visualize its detailed launch records.\n",
    "\n",
    "### TASK 1: Visualize the relationship between Flight Number and Launch Site\n",
    "\n",
    "Use the function <code>catplot</code> to plot <code>FlightNumber</code> vs <code>LaunchSite</code>, set the  parameter <code>x</code>  parameter to <code>FlightNumber</code>,set the  <code>y</code> to <code>Launch Site</code> and set the parameter <code>hue</code> to <code>'class'</code>\n",
    "\n"
   ]
  },
  {
   "cell_type": "code",
   "execution_count": null,
   "metadata": {
    "execution": {
     "iopub.execute_input": "2022-07-08T11:43:44.150455Z",
     "iopub.status.busy": "2022-07-08T11:43:44.149378Z",
     "iopub.status.idle": "2022-07-08T11:43:44.523939Z",
     "shell.execute_reply": "2022-07-08T11:43:44.522842Z",
     "shell.execute_reply.started": "2022-07-08T11:43:44.150411Z"
    }
   },
   "outputs": [],
   "source": [
    "sns.catplot(y=\"LaunchSite\", x=\"FlightNumber\", hue=\"Class\", data=df, aspect=2.5)\n",
    "plt.xlabel(\"Flight Number\", fontsize=20)\n",
    "plt.ylabel(\"Launch Site)\", fontsize=20)\n",
    "plt.show()"
   ]
  },
  {
   "cell_type": "markdown",
   "metadata": {},
   "source": [
    "Now try to explain the patterns you found in the Flight Number vs. Launch Site scatter point plots.\n",
    "\n",
    "### TASK 2: Visualize the relationship between Payload and Launch Site\n",
    "We also want to observe if there is any relationship between launch sites and their payload mass.\n",
    "\n",
    "Plot a scatter point chart with x axis to be Pay Load Mass (kg) and y axis to be the launch site, and hue to be the class value"
   ]
  },
  {
   "cell_type": "code",
   "execution_count": null,
   "metadata": {
    "execution": {
     "iopub.execute_input": "2022-07-08T11:43:44.525854Z",
     "iopub.status.busy": "2022-07-08T11:43:44.525486Z",
     "iopub.status.idle": "2022-07-08T11:43:44.866266Z",
     "shell.execute_reply": "2022-07-08T11:43:44.865324Z",
     "shell.execute_reply.started": "2022-07-08T11:43:44.525821Z"
    }
   },
   "outputs": [],
   "source": [
    "sns.catplot(y=\"LaunchSite\", x=\"PayloadMass\", hue=\"Class\", data=df, aspect=2.5)\n",
    "plt.xlabel(\"Payload Mass (kg)\", fontsize=20)\n",
    "plt.ylabel(\"Launch Site\", fontsize=20)\n",
    "plt.show()"
   ]
  },
  {
   "cell_type": "markdown",
   "metadata": {},
   "source": [
    "Now if you observe Payload Vs. Launch Site scatter point chart you will find for the VAFB-SLC launchsite there are no rockets launched for heavypayload mass(greater than 10000).\n",
    "\n",
    "### TASK 3: Visualize the relationship between success rate of each orbit type\n",
    "Next, we want to visually check if there are any relationship between success rate and orbit type.\n",
    "\n",
    "Let's create a bar chart for the sucess rate of each orbit"
   ]
  },
  {
   "cell_type": "code",
   "execution_count": null,
   "metadata": {
    "execution": {
     "iopub.execute_input": "2022-07-08T11:43:44.867968Z",
     "iopub.status.busy": "2022-07-08T11:43:44.867594Z",
     "iopub.status.idle": "2022-07-08T11:43:45.077228Z",
     "shell.execute_reply": "2022-07-08T11:43:45.07602Z",
     "shell.execute_reply.started": "2022-07-08T11:43:44.867933Z"
    }
   },
   "outputs": [],
   "source": [
    "df_orbit = df.groupby(df['Orbit'], as_index=False).agg({\"Class\": \"mean\"})\n",
    "#df_orbit\n",
    "sns.barplot(y=\"Class\", x=\"Orbit\", data=df_orbit)\n",
    "plt.xlabel(\"Orbit Type\", fontsize=20)\n",
    "plt.ylabel(\"Success Rate\", fontsize=20)\n",
    "plt.show()"
   ]
  },
  {
   "cell_type": "markdown",
   "metadata": {},
   "source": [
    "### TASK 4: Visualize the relationship between FlightNumber and Orbit type\n",
    "For each orbit, we want to see if there is any relationship between FlightNumber and Orbit type."
   ]
  },
  {
   "cell_type": "code",
   "execution_count": null,
   "metadata": {
    "execution": {
     "iopub.execute_input": "2022-07-08T11:43:45.079194Z",
     "iopub.status.busy": "2022-07-08T11:43:45.078659Z",
     "iopub.status.idle": "2022-07-08T11:43:45.863602Z",
     "shell.execute_reply": "2022-07-08T11:43:45.862585Z",
     "shell.execute_reply.started": "2022-07-08T11:43:45.079159Z"
    }
   },
   "outputs": [],
   "source": [
    "sns.catplot(y=\"Orbit\", x=\"FlightNumber\", hue=\"Class\", data=df, aspect=1.3, height=11)\n",
    "plt.xlabel(\"Flight Number\", fontsize=20)\n",
    "plt.ylabel(\"Orbit Type\", fontsize=20)\n",
    "plt.show()"
   ]
  },
  {
   "cell_type": "markdown",
   "metadata": {},
   "source": [
    "You should see that in the LEO orbit the Success appears related to the number of flights; on the other hand, there seems to be no relationship between flight number when in GTO orbit.\n",
    "\n",
    "### TASK 5: Visualize the relationship between Payload and Orbit type\n",
    "Similarly, we can plot the Payload vs. Orbit scatter point charts to reveal the relationship between Payload and Orbit type"
   ]
  },
  {
   "cell_type": "code",
   "execution_count": null,
   "metadata": {
    "execution": {
     "iopub.execute_input": "2022-07-08T11:43:45.864972Z",
     "iopub.status.busy": "2022-07-08T11:43:45.864675Z",
     "iopub.status.idle": "2022-07-08T11:43:46.590337Z",
     "shell.execute_reply": "2022-07-08T11:43:46.588941Z",
     "shell.execute_reply.started": "2022-07-08T11:43:45.864944Z"
    }
   },
   "outputs": [],
   "source": [
    "sns.catplot(y=\"Orbit\", x=\"PayloadMass\", hue=\"Class\", data=df, aspect=2)\n",
    "plt.xlabel(\"Payload Mass (kg)\", fontsize=20)\n",
    "plt.ylabel(\"Orbit Type\", fontsize=20)\n",
    "plt.show()"
   ]
  },
  {
   "cell_type": "markdown",
   "metadata": {},
   "source": [
    "With heavy payloads the successful landing or positive landing rate are more for Polar,LEO and ISS.\n",
    "\n",
    "However for GTO we cannot distinguish this well as both positive landing rate and negative landing(unsuccessful mission) are both there here.\n",
    "\n",
    "### TASK 6: Visualize the launch success yearly trend\n",
    "You can plot a line chart with x axis to be Year and y axis to be average success rate, to get the average launch success trend.\n",
    "\n",
    "The function will help us get the year from the date:"
   ]
  },
  {
   "cell_type": "code",
   "execution_count": null,
   "metadata": {
    "execution": {
     "iopub.execute_input": "2022-07-08T11:43:46.592872Z",
     "iopub.status.busy": "2022-07-08T11:43:46.592416Z",
     "iopub.status.idle": "2022-07-08T11:43:46.77554Z",
     "shell.execute_reply": "2022-07-08T11:43:46.774228Z",
     "shell.execute_reply.started": "2022-07-08T11:43:46.592831Z"
    }
   },
   "outputs": [],
   "source": [
    "# add year column\n",
    "df[\"Year\"] = pd.DatetimeIndex(df[\"Date\"]).year.astype(int)\n",
    "\n",
    "df_year = df.groupby(df['Year'], as_index=False).agg({\"Class\": \"mean\"})\n",
    "#df_orbit\n",
    "sns.lineplot(y=\"Class\", x=\"Year\", data=df_year)\n",
    "plt.xlabel(\"Year\", fontsize=20)\n",
    "plt.ylabel(\"Success Rate\", fontsize=20)\n",
    "plt.show()\n"
   ]
  },
  {
   "cell_type": "markdown",
   "metadata": {},
   "source": [
    "We can observe that the sucess rate since 2013 kept increasing till 2020\n",
    "\n",
    "### Feature Engineering¶\n",
    "By now, we have obtained some preliminary insights about how each important variable would affect the success rate, we will select the features that will be used in success prediction in the future module.\n",
    "\n",
    "#### Note\n",
    "We have retrospectively added the column <code>Class</code> as it will be needed in EDA (Lab 7) "
   ]
  },
  {
   "cell_type": "code",
   "execution_count": null,
   "metadata": {
    "execution": {
     "iopub.execute_input": "2022-07-08T11:43:46.777026Z",
     "iopub.status.busy": "2022-07-08T11:43:46.776711Z",
     "iopub.status.idle": "2022-07-08T11:43:46.797893Z",
     "shell.execute_reply": "2022-07-08T11:43:46.796515Z",
     "shell.execute_reply.started": "2022-07-08T11:43:46.777Z"
    }
   },
   "outputs": [],
   "source": [
    "features = df[['FlightNumber', 'PayloadMass', 'Orbit', 'LaunchSite', 'Flights', 'GridFins', 'Reused', 'Legs', 'LandingPad', 'Block', 'ReusedCount', 'Serial', 'Class']]\n",
    "features.head()\n"
   ]
  },
  {
   "cell_type": "markdown",
   "metadata": {},
   "source": [
    "### TASK 7: Create dummy variables to categorical columns\n",
    "Use the function get_dummies and features dataframe to apply OneHotEncoder to the column Orbits, LaunchSite, LandingPad, and Serial. Assign the value to the variable features_one_hot, display the results using the method head. Your result dataframe must include all features including the encoded ones."
   ]
  },
  {
   "cell_type": "markdown",
   "metadata": {},
   "source": [
    "#### Note\n",
    "We have retrospectively added the column <code>Class</code> as it will be needed in EDA (Lab 7) "
   ]
  },
  {
   "cell_type": "code",
   "execution_count": null,
   "metadata": {
    "execution": {
     "iopub.execute_input": "2022-07-08T11:43:46.800245Z",
     "iopub.status.busy": "2022-07-08T11:43:46.799917Z",
     "iopub.status.idle": "2022-07-08T11:43:46.852973Z",
     "shell.execute_reply": "2022-07-08T11:43:46.851635Z",
     "shell.execute_reply.started": "2022-07-08T11:43:46.800219Z"
    }
   },
   "outputs": [],
   "source": [
    "features_one_hot = pd.get_dummies(features[['Orbit', 'LaunchSite', 'LandingPad', 'Serial']])\n",
    "features_one_hot = pd.concat([features[['FlightNumber', 'PayloadMass', 'Flights','GridFins', 'Reused', 'Legs', 'Block', 'ReusedCount', 'Class']], features_one_hot], axis=1)\n",
    "features_one_hot.head(10)"
   ]
  },
  {
   "cell_type": "markdown",
   "metadata": {},
   "source": [
    "### TASK 8: Cast all numeric columns to float64\n",
    "Now that our features_one_hot dataframe only contains numbers cast the entire dataframe to variable type float64"
   ]
  },
  {
   "cell_type": "code",
   "execution_count": null,
   "metadata": {
    "execution": {
     "iopub.execute_input": "2022-07-08T11:43:46.855396Z",
     "iopub.status.busy": "2022-07-08T11:43:46.854961Z",
     "iopub.status.idle": "2022-07-08T11:43:46.86795Z",
     "shell.execute_reply": "2022-07-08T11:43:46.866464Z",
     "shell.execute_reply.started": "2022-07-08T11:43:46.855358Z"
    }
   },
   "outputs": [],
   "source": [
    "features_one_hot = features_one_hot.astype(float)\n",
    "features_one_hot.dtypes\n"
   ]
  },
  {
   "cell_type": "code",
   "execution_count": null,
   "metadata": {
    "execution": {
     "iopub.execute_input": "2022-07-08T11:43:46.870304Z",
     "iopub.status.busy": "2022-07-08T11:43:46.86984Z",
     "iopub.status.idle": "2022-07-08T11:43:46.875698Z",
     "shell.execute_reply": "2022-07-08T11:43:46.874811Z",
     "shell.execute_reply.started": "2022-07-08T11:43:46.870267Z"
    }
   },
   "outputs": [],
   "source": [
    "# features_one_hot.to_csv('dataset_part_3.csv', index=False)\n",
    "# note that the feature \"Class\" has been added, since it will be needed in Lab 7\n",
    "df_fe = features_one_hot"
   ]
  },
  {
   "cell_type": "markdown",
   "metadata": {},
   "source": [
    "<p id=\"assignmentfolium\" />\n",
    "\n",
    "## Lab 5: Interactive Visual Analytics with Folium\n",
    "\n",
    "### Launch Sites Locations Analysis with Folium\n",
    "\n",
    "The launch success rate may depend on many factors such as payload mass, orbit type, and so on. It may also depend on the location and proximities of a launch site, i.e., the initial position of rocket trajectories. Finding an optimal location for building a launch site certainly involves many factors and hopefully we could discover some of the factors by analyzing the existing launch site locations.\n",
    "\n",
    "In the previous exploratory data analysis labs, you have visualized the SpaceX launch dataset using matplotlib and seaborn and discovered some preliminary correlations between the launch site and success rates. In this lab, you will be performing more interactive visual analytics using Folium.\n",
    "\n",
    "### Objectives\n",
    "This lab contains the following tasks:\n",
    "\n",
    "- TASK 1: Mark all launch sites on a map\n",
    "- TASK 2: Mark the success/failed launches for each site on the map\n",
    "- TASK 3: Calculate the distances between a launch site to its proximities\n",
    "\n",
    "After completed the above tasks, you should be able to find some geographical patterns about launch sites.\n",
    "\n",
    "Let's first import required Python packages for this lab:"
   ]
  },
  {
   "cell_type": "code",
   "execution_count": null,
   "metadata": {
    "execution": {
     "iopub.execute_input": "2022-07-08T11:43:46.87793Z",
     "iopub.status.busy": "2022-07-08T11:43:46.877084Z",
     "iopub.status.idle": "2022-07-08T11:44:11.784005Z",
     "shell.execute_reply": "2022-07-08T11:44:11.783208Z",
     "shell.execute_reply.started": "2022-07-08T11:43:46.877895Z"
    }
   },
   "outputs": [],
   "source": [
    "!pip3 install wget\n",
    "!pip3 install folium\n",
    "import folium\n",
    "import wget\n",
    "import pandas as pd\n",
    "from folium.plugins import MarkerCluster\n",
    "from folium.plugins import MousePosition\n",
    "from folium.features import DivIcon"
   ]
  },
  {
   "cell_type": "code",
   "execution_count": null,
   "metadata": {
    "execution": {
     "iopub.execute_input": "2022-07-08T11:44:11.785627Z",
     "iopub.status.busy": "2022-07-08T11:44:11.785233Z",
     "iopub.status.idle": "2022-07-08T11:44:12.295709Z",
     "shell.execute_reply": "2022-07-08T11:44:12.294101Z",
     "shell.execute_reply.started": "2022-07-08T11:44:11.785602Z"
    }
   },
   "outputs": [],
   "source": [
    "# Download and read the `spacex_launch_geo.csv`\n",
    "spacex_csv_file = wget.download('https://cf-courses-data.s3.us.cloud-object-storage.appdomain.cloud/IBM-DS0321EN-SkillsNetwork/datasets/spacex_launch_geo.csv')\n",
    "spacex_df=pd.read_csv(spacex_csv_file)\n",
    "print(spacex_df.info())\n",
    "# print(spacex_df)\n"
   ]
  },
  {
   "cell_type": "code",
   "execution_count": null,
   "metadata": {
    "execution": {
     "iopub.execute_input": "2022-07-08T11:44:12.297548Z",
     "iopub.status.busy": "2022-07-08T11:44:12.297198Z",
     "iopub.status.idle": "2022-07-08T11:44:12.316148Z",
     "shell.execute_reply": "2022-07-08T11:44:12.315063Z",
     "shell.execute_reply.started": "2022-07-08T11:44:12.297516Z"
    }
   },
   "outputs": [],
   "source": [
    "# Select relevant sub-columns: `Launch Site`, `Lat(Latitude)`, `Long(Longitude)`, `class`\n",
    "spacex_df = spacex_df[['Launch Site', 'Lat', 'Long', 'class']]\n",
    "launch_sites_df = spacex_df.groupby(['Launch Site'], as_index=False).first()\n",
    "launch_sites_df = launch_sites_df[['Launch Site', 'Lat', 'Long']]\n",
    "launch_sites_df"
   ]
  },
  {
   "cell_type": "markdown",
   "metadata": {},
   "source": [
    "Above coordinates are just plain numbers that can not give you any intuitive insights about where are those launch sites. If you are very good at geography, you can interpret those numbers directly in your mind. If not, that's fine too. Let's visualize those locations by pinning them on a map.\n",
    "\n",
    "We first need to create a folium Map object, with an initial center location to be NASA Johnson Space Center at Houston, Texas."
   ]
  },
  {
   "cell_type": "code",
   "execution_count": null,
   "metadata": {
    "execution": {
     "iopub.execute_input": "2022-07-08T11:44:12.318271Z",
     "iopub.status.busy": "2022-07-08T11:44:12.317676Z",
     "iopub.status.idle": "2022-07-08T11:44:12.34611Z",
     "shell.execute_reply": "2022-07-08T11:44:12.344832Z",
     "shell.execute_reply.started": "2022-07-08T11:44:12.318238Z"
    }
   },
   "outputs": [],
   "source": [
    "# Start location is NASA Johnson Space Center\n",
    "nasa_coordinate = [29.559684888503615, -95.0830971930759]\n",
    "site_map = folium.Map(location=nasa_coordinate, zoom_start=10)\n",
    "\n",
    "# Create a red circle at NASA Johnson Space Center's coordinate with a popup label showing its name\n",
    "circle = folium.Circle(nasa_coordinate, radius=1000, color='#d35400', fill=True).add_child(folium.Popup('NASA Johnson Space Center'))\n",
    "# Create a red circle at NASA Johnson Space Center's coordinate with a icon showing its name\n",
    "marker = folium.map.Marker(\n",
    "    nasa_coordinate,\n",
    "    # Create an icon as a text label\n",
    "    icon=DivIcon(\n",
    "        icon_size=(20,20),\n",
    "        icon_anchor=(0,0),\n",
    "        html='<div style=\"font-size: 12; color:#d35400;\"><b>%s</b></div>' % 'NASA JSC',\n",
    "        )\n",
    "    )\n",
    "site_map.add_child(circle)\n",
    "site_map.add_child(marker)"
   ]
  },
  {
   "cell_type": "markdown",
   "metadata": {},
   "source": [
    "...and you should find a small red circle near the city of Houston and you can zoom-in to see a larger circle.\n",
    "\n",
    "Now, let's add a circle for each launch site in data frame launch_sites\n",
    "\n",
    "TODO: Create and add `folium.Circle` and `folium.Marker` for each launch site on the site map\n",
    "\n",
    "An example of folium.Circle:\n",
    "\n",
    "`folium.Circle(coordinate, radius=1000, color='#000000', fill=True).add_child(folium.Popup(...))`\n",
    "\n",
    "An example of folium.Marker:\n",
    "\n",
    "`folium.map.Marker(coordinate, icon=DivIcon(icon_size=(20,20),icon_anchor=(0,0), html='<div style=\"font-size: 12; color:#d35400;\"><b>%s</b></div>' % 'label', ))`"
   ]
  },
  {
   "cell_type": "code",
   "execution_count": null,
   "metadata": {
    "execution": {
     "iopub.execute_input": "2022-07-08T11:44:12.348127Z",
     "iopub.status.busy": "2022-07-08T11:44:12.347731Z",
     "iopub.status.idle": "2022-07-08T11:44:12.385682Z",
     "shell.execute_reply": "2022-07-08T11:44:12.384884Z",
     "shell.execute_reply.started": "2022-07-08T11:44:12.348094Z"
    }
   },
   "outputs": [],
   "source": [
    "# Initialize map\n",
    "center_coords = [launch_sites_df[['Lat']].max() * 0.5 + launch_sites_df[['Lat']].min() * 0.5, launch_sites_df[['Long']].max() * 0.5 + launch_sites_df[['Long']].min() * 0.5]\n",
    "site_map = folium.Map(location=center_coords, zoom_start=4)\n",
    "\n",
    "# For each launch site, add a Circle object based on its coordinate (Lat, Long) values. In addition, add Launch site name as a popup label\n",
    "for _, launch_site in launch_sites_df.iterrows():\n",
    "    coord = [launch_site['Lat'], launch_site['Long']]\n",
    "    ls_name = launch_site['Launch Site']\n",
    "    # print(ls_name, coord)\n",
    "    # Create a blue circle at site's coordinate with a popup label showing its name\n",
    "    circle = folium.Circle(coord, radius=1000, color='#0054d3', fill=True).add_child(folium.Popup(ls_name))\n",
    "    # Create a blue circle at site's coordinate with a icon showing its name\n",
    "    marker = folium.map.Marker(\n",
    "        coord,\n",
    "        # Create an icon as a text label\n",
    "        icon=DivIcon(\n",
    "            icon_size=(20,20),\n",
    "            icon_anchor=(0,0),\n",
    "            html='<div style=\"font-size: 12; color:#0054d3;\"><b>%s</b></div>' % ls_name,\n",
    "            )\n",
    "        )\n",
    "    site_map.add_child(circle)\n",
    "    site_map.add_child(marker)\n",
    "\n",
    "site_map  # display map\n"
   ]
  },
  {
   "cell_type": "markdown",
   "metadata": {},
   "source": [
    "Now, you can explore the map by zoom-in/out the marked areas , and try to answer the following questions:\n",
    "\n",
    "- Are all launch sites in proximity to the Equator line? no (+-30°N)\n",
    "- Are all launch sites in very close proximity to the coast? yes\n"
   ]
  },
  {
   "cell_type": "markdown",
   "metadata": {},
   "source": [
    "### Task 2: Mark the success/failed launches for each site on the map\n",
    "Next, let's try to enhance the map by adding the launch outcomes for each site, and see which sites have high success rates. Recall that data frame spacex_df has detailed launch records, and the class column indicates if this launch was successful or not"
   ]
  },
  {
   "cell_type": "code",
   "execution_count": null,
   "metadata": {
    "execution": {
     "iopub.execute_input": "2022-07-08T11:44:12.38757Z",
     "iopub.status.busy": "2022-07-08T11:44:12.387081Z",
     "iopub.status.idle": "2022-07-08T11:44:12.39958Z",
     "shell.execute_reply": "2022-07-08T11:44:12.398508Z",
     "shell.execute_reply.started": "2022-07-08T11:44:12.387539Z"
    }
   },
   "outputs": [],
   "source": [
    "spacex_df.tail(10)"
   ]
  },
  {
   "cell_type": "markdown",
   "metadata": {},
   "source": [
    "Next, let's create markers for all launch records. If a launch was successful (class=1), then we use a green marker and if a launch was failed, we use a red marker (class=0)\n",
    "\n",
    "Note that a launch only happens in one of the four launch sites, which means many launch records will have the exact same coordinate. Marker clusters can be a good way to simplify a map containing many markers having the same coordinate.\n",
    "\n",
    "Let's first create a MarkerCluster object"
   ]
  },
  {
   "cell_type": "code",
   "execution_count": null,
   "metadata": {
    "execution": {
     "iopub.execute_input": "2022-07-08T11:44:12.402259Z",
     "iopub.status.busy": "2022-07-08T11:44:12.401916Z",
     "iopub.status.idle": "2022-07-08T11:44:12.407394Z",
     "shell.execute_reply": "2022-07-08T11:44:12.406178Z",
     "shell.execute_reply.started": "2022-07-08T11:44:12.402227Z"
    }
   },
   "outputs": [],
   "source": [
    "marker_cluster = MarkerCluster().add_to(site_map)"
   ]
  },
  {
   "cell_type": "markdown",
   "metadata": {},
   "source": [
    "TODO: Create a new column in launch_sites dataframe called marker_color to store the marker colors based on the class value"
   ]
  },
  {
   "cell_type": "code",
   "execution_count": null,
   "metadata": {
    "execution": {
     "iopub.execute_input": "2022-07-08T11:44:12.408957Z",
     "iopub.status.busy": "2022-07-08T11:44:12.408598Z",
     "iopub.status.idle": "2022-07-08T11:44:12.428498Z",
     "shell.execute_reply": "2022-07-08T11:44:12.427568Z",
     "shell.execute_reply.started": "2022-07-08T11:44:12.408933Z"
    }
   },
   "outputs": [],
   "source": [
    "# Function to assign color to launch outcome\n",
    "def assign_marker_color(launch_outcome):\n",
    "    if launch_outcome == 1:\n",
    "        return 'green'\n",
    "    else:\n",
    "        return 'red'\n",
    "    \n",
    "spacex_df['marker_color'] = spacex_df['class'].apply(assign_marker_color)\n",
    "spacex_df.tail(10)"
   ]
  },
  {
   "cell_type": "markdown",
   "metadata": {},
   "source": [
    "TODO: For each launch result in spacex_df data frame, add a folium.Marker to marker_cluster"
   ]
  },
  {
   "cell_type": "code",
   "execution_count": null,
   "metadata": {
    "execution": {
     "iopub.execute_input": "2022-07-08T11:44:12.430676Z",
     "iopub.status.busy": "2022-07-08T11:44:12.430094Z",
     "iopub.status.idle": "2022-07-08T11:44:12.538798Z",
     "shell.execute_reply": "2022-07-08T11:44:12.53744Z",
     "shell.execute_reply.started": "2022-07-08T11:44:12.430643Z"
    }
   },
   "outputs": [],
   "source": [
    "# Add marker_cluster to current site_map\n",
    "site_map.add_child(marker_cluster)\n",
    "\n",
    "# create a Marker object with its coordinate\n",
    "# and customize the Marker's icon property to indicate if this launch was successed or failed, \n",
    "# e.g., icon=folium.Icon(color='white', icon_color=row['marker_color']\n",
    "for index, record in spacex_df.iterrows():\n",
    "    # TODO: Create and add a Marker cluster to the site map\n",
    "    # marker = folium.Marker(...)\n",
    "    \n",
    "    folium.Marker(\n",
    "        location=[record['Lat'], record['Long']],\n",
    "        icon=folium.Icon(color=record['marker_color'], icon_color=record['marker_color'],\n",
    "        popup=record['class'])\n",
    "    ).add_to(marker_cluster)\n",
    "\n",
    "site_map"
   ]
  },
  {
   "cell_type": "markdown",
   "metadata": {},
   "source": [
    "From the color-labeled markers in marker clusters, you should be able to easily identify which launch sites have relatively high success rates.\n",
    "\n",
    "### TASK 3: Calculate the distances between a launch site to its proximities\n",
    "Next, we need to explore and analyze the proximities of launch sites.\n",
    "\n",
    "Let's first add a MousePosition on the map to get coordinate for a mouse over a point on the map. As such, while you are exploring the map, you can easily find the coordinates of any points of interests (such as railway)"
   ]
  },
  {
   "cell_type": "code",
   "execution_count": null,
   "metadata": {
    "execution": {
     "iopub.execute_input": "2022-07-08T11:44:12.54022Z",
     "iopub.status.busy": "2022-07-08T11:44:12.539937Z",
     "iopub.status.idle": "2022-07-08T11:44:12.644737Z",
     "shell.execute_reply": "2022-07-08T11:44:12.643929Z",
     "shell.execute_reply.started": "2022-07-08T11:44:12.540188Z"
    }
   },
   "outputs": [],
   "source": [
    "# Add Mouse Position to get the coordinate (Lat, Long) for a mouse over on the map\n",
    "formatter = \"function(num) {return L.Util.formatNum(num, 5);};\"\n",
    "mouse_position = MousePosition(\n",
    "    position='topright',\n",
    "    separator=' Long: ',\n",
    "    empty_string='NaN',\n",
    "    lng_first=False,\n",
    "    num_digits=20,\n",
    "    prefix='Lat:',\n",
    "    lat_formatter=formatter,\n",
    "    lng_formatter=formatter,\n",
    ")\n",
    "\n",
    "site_map.add_child(mouse_position)\n",
    "site_map"
   ]
  },
  {
   "cell_type": "markdown",
   "metadata": {},
   "source": [
    "Now zoom in to a launch site and explore its proximity to see if you can easily find any railway, highway, coastline, etc. Move your mouse to these points and mark down their coordinates (shown on the top-left) in order to the distance to the launch site.\n",
    "\n",
    "You can calculate the distance between two points on the map based on their Lat and Long values using the following method:"
   ]
  },
  {
   "cell_type": "code",
   "execution_count": null,
   "metadata": {
    "execution": {
     "iopub.execute_input": "2022-07-08T11:44:12.646587Z",
     "iopub.status.busy": "2022-07-08T11:44:12.646091Z",
     "iopub.status.idle": "2022-07-08T11:44:12.653785Z",
     "shell.execute_reply": "2022-07-08T11:44:12.652565Z",
     "shell.execute_reply.started": "2022-07-08T11:44:12.646556Z"
    }
   },
   "outputs": [],
   "source": [
    "from math import sin, cos, sqrt, atan2, radians\n",
    "\n",
    "def calculate_distance(lat1, lon1, lat2, lon2):\n",
    "    # approximate radius of earth in km\n",
    "    R = 6373.0\n",
    "\n",
    "    lat1 = radians(lat1)\n",
    "    lon1 = radians(lon1)\n",
    "    lat2 = radians(lat2)\n",
    "    lon2 = radians(lon2)\n",
    "\n",
    "    dlon = lon2 - lon1\n",
    "    dlat = lat2 - lat1\n",
    "\n",
    "    a = sin(dlat / 2)**2 + cos(lat1) * cos(lat2) * sin(dlon / 2)**2\n",
    "    c = 2 * atan2(sqrt(a), sqrt(1 - a))\n",
    "\n",
    "    distance = R * c\n",
    "    return distance"
   ]
  },
  {
   "cell_type": "markdown",
   "metadata": {},
   "source": [
    "TODO: Mark down a point on the closest coastline using MousePosition and calculate the distance between the coastline point and the launch site."
   ]
  },
  {
   "cell_type": "code",
   "execution_count": null,
   "metadata": {
    "execution": {
     "iopub.execute_input": "2022-07-08T11:44:12.655998Z",
     "iopub.status.busy": "2022-07-08T11:44:12.655404Z",
     "iopub.status.idle": "2022-07-08T11:44:12.667671Z",
     "shell.execute_reply": "2022-07-08T11:44:12.666422Z",
     "shell.execute_reply.started": "2022-07-08T11:44:12.655958Z"
    }
   },
   "outputs": [],
   "source": [
    "# find coordinate of the closet coastline\n",
    "# distance_coastline = calculate_distance(launch_site_lat, launch_site_lon, coastline_lat, coastline_lon)\n",
    "\n",
    "launch_site_lat, launch_site_lon = 28.563197, -80.576820\n",
    "coastline_lat, coastline_lon = 28.56319, -80.56785\n",
    "\n",
    "distance_coastline = calculate_distance(launch_site_lat, launch_site_lon, coastline_lat, coastline_lon)\n",
    "distance_coastline\n"
   ]
  },
  {
   "cell_type": "markdown",
   "metadata": {},
   "source": [
    "TODO: After obtained its coordinate, create a folium.Marker to show the distance"
   ]
  },
  {
   "cell_type": "code",
   "execution_count": null,
   "metadata": {
    "execution": {
     "iopub.execute_input": "2022-07-08T11:44:12.670133Z",
     "iopub.status.busy": "2022-07-08T11:44:12.66924Z",
     "iopub.status.idle": "2022-07-08T11:44:12.679959Z",
     "shell.execute_reply": "2022-07-08T11:44:12.678807Z",
     "shell.execute_reply.started": "2022-07-08T11:44:12.670092Z"
    }
   },
   "outputs": [],
   "source": [
    "# Create and add a folium.Marker on your selected closest coastline point on the map\n",
    "# Display the distance between coastline point and launch site using the icon property \n",
    "distance_marker = folium.Marker(\n",
    "   location=[coastline_lat, coastline_lon],\n",
    "   icon=DivIcon(\n",
    "       icon_size=(20,20),\n",
    "       icon_anchor=(0,0),\n",
    "       html='<div style=\"font-size: 12; color:#d35400;\"><b>%s</b></div>' % \"{:10.2f} KM\".format(distance_coastline),\n",
    "       )\n",
    "   )"
   ]
  },
  {
   "cell_type": "markdown",
   "metadata": {},
   "source": [
    "TODO: Draw a PolyLine between a launch site to the selected coastline point"
   ]
  },
  {
   "cell_type": "code",
   "execution_count": null,
   "metadata": {
    "execution": {
     "iopub.execute_input": "2022-07-08T11:44:12.683123Z",
     "iopub.status.busy": "2022-07-08T11:44:12.681826Z",
     "iopub.status.idle": "2022-07-08T11:44:12.782751Z",
     "shell.execute_reply": "2022-07-08T11:44:12.78188Z",
     "shell.execute_reply.started": "2022-07-08T11:44:12.683071Z"
    }
   },
   "outputs": [],
   "source": [
    "# Create a `folium.PolyLine` object using the coastline coordinates and launch site coordinate\n",
    "lines=folium.PolyLine(locations=[[launch_site_lat, launch_site_lon], [coastline_lat, coastline_lon]], weight=1)\n",
    "site_map.add_child(lines)\n"
   ]
  },
  {
   "cell_type": "markdown",
   "metadata": {},
   "source": [
    "TODO: Similarly, you can draw a line betwee a launch site to its closest city, railway, highway, etc. You need to use MousePosition to find the their coordinates on the map first"
   ]
  },
  {
   "cell_type": "code",
   "execution_count": null,
   "metadata": {
    "execution": {
     "iopub.execute_input": "2022-07-08T11:44:12.784827Z",
     "iopub.status.busy": "2022-07-08T11:44:12.784028Z",
     "iopub.status.idle": "2022-07-08T11:44:12.881152Z",
     "shell.execute_reply": "2022-07-08T11:44:12.880241Z",
     "shell.execute_reply.started": "2022-07-08T11:44:12.784792Z"
    }
   },
   "outputs": [],
   "source": [
    "city_lat, city_lon = 28.53, -81.38  # coords for Orlando\n",
    "\n",
    "line2=folium.PolyLine(locations=[[launch_site_lat, launch_site_lon], [city_lat, city_lon]], weight=3)\n",
    "site_map.add_child(line2)\n"
   ]
  },
  {
   "cell_type": "markdown",
   "metadata": {},
   "source": [
    "After you plot distance lines to the proximities, you can answer the following questions easily:\n",
    "\n",
    "Are launch sites in close proximity to railways?\n",
    "Are launch sites in close proximity to highways?\n",
    "Are launch sites in close proximity to coastline?\n",
    "Do launch sites keep certain distance away from cities?\n",
    "\n",
    "Regarding Kennedy Space Center: Distance to highways, cities and railways is good enough, also regarding the fact that rockets will head towards the east.\n",
    "\n",
    "Regarding Vandenberg AFB: The only larger place to the East of the AFB is Lompoc, CA. "
   ]
  },
  {
   "cell_type": "markdown",
   "metadata": {
    "execution": {
     "iopub.execute_input": "2022-07-08T02:17:57.790578Z",
     "iopub.status.busy": "2022-07-08T02:17:57.790236Z",
     "iopub.status.idle": "2022-07-08T02:17:57.795742Z",
     "shell.execute_reply": "2022-07-08T02:17:57.794662Z",
     "shell.execute_reply.started": "2022-07-08T02:17:57.79055Z"
    }
   },
   "source": [
    "<p id=\"assignmentpred\" />\n",
    "\n",
    "## Lab 7: Machine Learning Prediction\n",
    "\n",
    "### Objectives\n",
    "\n",
    "Perform exploratory Data Analysis and determine Training Labels\n",
    "- create a column for the class\n",
    "- Standardize the data\n",
    "- Split into training data and test data\n",
    "- Find best Hyperparameter for SVM, Classification Trees and Logistic Regression\n",
    "- Find the method performs best using test data\n"
   ]
  },
  {
   "cell_type": "code",
   "execution_count": null,
   "metadata": {
    "execution": {
     "iopub.execute_input": "2022-07-08T11:44:12.883085Z",
     "iopub.status.busy": "2022-07-08T11:44:12.882545Z",
     "iopub.status.idle": "2022-07-08T11:44:13.133818Z",
     "shell.execute_reply": "2022-07-08T11:44:13.132693Z",
     "shell.execute_reply.started": "2022-07-08T11:44:12.883052Z"
    }
   },
   "outputs": [],
   "source": [
    "import pandas as pd\n",
    "import numpy as np\n",
    "import matplotlib.pyplot as plt\n",
    "import seaborn as sns\n",
    "from sklearn import preprocessing as prep \n",
    "from sklearn.model_selection import train_test_split\n",
    "from sklearn.model_selection import GridSearchCV  # find best hyperparameters\n",
    "# classification algorithms\n",
    "from sklearn.linear_model import LogisticRegression\n",
    "from sklearn.svm import SVC\n",
    "from sklearn.tree import DecisionTreeClassifier\n",
    "from sklearn.neighbors import KNeighborsClassifier"
   ]
  },
  {
   "cell_type": "code",
   "execution_count": null,
   "metadata": {
    "execution": {
     "iopub.execute_input": "2022-07-08T11:44:13.135485Z",
     "iopub.status.busy": "2022-07-08T11:44:13.135131Z",
     "iopub.status.idle": "2022-07-08T11:44:13.143257Z",
     "shell.execute_reply": "2022-07-08T11:44:13.142308Z",
     "shell.execute_reply.started": "2022-07-08T11:44:13.135452Z"
    }
   },
   "outputs": [],
   "source": [
    "# This function is to plot the confusion matrix\n",
    "def plot_confusion_matrix(y,y_predict):\n",
    "    \"this function plots the confusion matrix\"\n",
    "    from sklearn.metrics import confusion_matrix\n",
    "\n",
    "    cm = confusion_matrix(y, y_predict)\n",
    "    ax= plt.subplot()\n",
    "    sns.heatmap(cm, annot=True, ax = ax) #annot=True to annotate cells\n",
    "    ax.set_xlabel('Predicted labels')\n",
    "    ax.set_ylabel('True labels')\n",
    "    ax.set_title('Confusion Matrix')\n",
    "    ax.xaxis.set_ticklabels(['did not land', 'land'])\n",
    "    ax.yaxis.set_ticklabels(['did not land', 'landed'])\n",
    "    "
   ]
  },
  {
   "cell_type": "code",
   "execution_count": null,
   "metadata": {
    "execution": {
     "iopub.execute_input": "2022-07-08T11:44:13.145041Z",
     "iopub.status.busy": "2022-07-08T11:44:13.144433Z",
     "iopub.status.idle": "2022-07-08T11:44:13.178067Z",
     "shell.execute_reply": "2022-07-08T11:44:13.177006Z",
     "shell.execute_reply.started": "2022-07-08T11:44:13.145002Z"
    }
   },
   "outputs": [],
   "source": [
    "# If you were unable to complete the previous lab correctly you can uncomment and load this csv\n",
    "# data = pd.read_csv('https://cf-courses-data.s3.us.cloud-object-storage.appdomain.cloud/IBMDeveloperSkillsNetwork-DS0701EN-SkillsNetwork/api/dataset_part_2.csv')\n",
    "data = df_wrangled\n",
    "data.head()\n"
   ]
  },
  {
   "cell_type": "code",
   "execution_count": null,
   "metadata": {
    "execution": {
     "iopub.execute_input": "2022-07-08T11:44:13.180052Z",
     "iopub.status.busy": "2022-07-08T11:44:13.179644Z",
     "iopub.status.idle": "2022-07-08T11:44:13.349432Z",
     "shell.execute_reply": "2022-07-08T11:44:13.348437Z",
     "shell.execute_reply.started": "2022-07-08T11:44:13.180016Z"
    }
   },
   "outputs": [],
   "source": [
    "# If you were unable to complete the previous lab correctly you can uncomment and load this csv\n",
    "# X = pd.read_csv('https://cf-courses-data.s3.us.cloud-object-storage.appdomain.cloud/IBMDeveloperSkillsNetwork-DS0701EN-SkillsNetwork/api/dataset_part_3.csv')\n",
    "\n",
    "X = df_fe.reset_index().drop(['index'], axis=1)\n",
    "X.head(100)"
   ]
  },
  {
   "cell_type": "markdown",
   "metadata": {},
   "source": [
    "### TASK 1\n",
    "Create a NumPy array from the column <code>Class</code> in <code>data</code>, by applying the method <code>to_numpy()</code>  then\n",
    "assign it  to the variable <code>Y</code>,make sure the output is a  Pandas series (only one bracket df\\['name of  column']).\n",
    "\n",
    "#### Note\n",
    "The column <code>Class</code> is not available in the downloadable csv-file, nor in the original dataframe. It actually got lost in the process of feature engineering. Hence, I have edited the corresponding lab to make it available here.\n"
   ]
  },
  {
   "cell_type": "code",
   "execution_count": null,
   "metadata": {
    "execution": {
     "iopub.execute_input": "2022-07-08T11:44:13.36418Z",
     "iopub.status.busy": "2022-07-08T11:44:13.363793Z",
     "iopub.status.idle": "2022-07-08T11:44:13.372031Z",
     "shell.execute_reply": "2022-07-08T11:44:13.371266Z",
     "shell.execute_reply.started": "2022-07-08T11:44:13.364148Z"
    }
   },
   "outputs": [],
   "source": [
    "# It seems weird to convert a column to a numpy array, then reconvert it to a pandas series\n",
    "# we can immediately extract the pandas series from the dataframe\n",
    "y = X['Class']\n",
    "X.drop(['Class'], axis=1, inplace=True)\n",
    "type(y)"
   ]
  },
  {
   "cell_type": "markdown",
   "metadata": {},
   "source": [
    "### TASK 2\n",
    "Standardize the data in X then reassign it to the variable X using the transform provided below."
   ]
  },
  {
   "cell_type": "code",
   "execution_count": null,
   "metadata": {
    "execution": {
     "iopub.execute_input": "2022-07-08T11:44:13.373688Z",
     "iopub.status.busy": "2022-07-08T11:44:13.373065Z",
     "iopub.status.idle": "2022-07-08T11:44:13.391253Z",
     "shell.execute_reply": "2022-07-08T11:44:13.389826Z",
     "shell.execute_reply.started": "2022-07-08T11:44:13.373654Z"
    }
   },
   "outputs": [],
   "source": [
    "X = prep.StandardScaler().fit_transform(X)\n",
    "X"
   ]
  },
  {
   "cell_type": "markdown",
   "metadata": {},
   "source": [
    "We split the data into training and testing data using the function train_test_split. The training data is divided into validation data, a second set used for training data; then the models are trained and hyperparameters are selected using the function GridSearchCV.\n",
    "\n",
    "## TASK 3\n",
    "Use the function train_test_split to split the data X and Y into training and test data. Set the parameter test_size to 0.2 and random_state to 2. The training data and test data should be assigned to the following labels.\n"
   ]
  },
  {
   "cell_type": "code",
   "execution_count": null,
   "metadata": {
    "execution": {
     "iopub.execute_input": "2022-07-08T11:44:13.393561Z",
     "iopub.status.busy": "2022-07-08T11:44:13.392961Z",
     "iopub.status.idle": "2022-07-08T11:44:13.405461Z",
     "shell.execute_reply": "2022-07-08T11:44:13.404574Z",
     "shell.execute_reply.started": "2022-07-08T11:44:13.393528Z"
    }
   },
   "outputs": [],
   "source": [
    "X_train, X_test, y_train, y_test = train_test_split(X, y, test_size=0.2, random_state=2)\n",
    "y_test.shape\n",
    "# we have 18 samples"
   ]
  },
  {
   "cell_type": "markdown",
   "metadata": {},
   "source": [
    "### TASK 4\n",
    "Create a logistic regression object then create a GridSearchCV object logreg_cv with cv = 10. Fit the object to find the best parameters from the dictionary parameters.\n"
   ]
  },
  {
   "cell_type": "code",
   "execution_count": null,
   "metadata": {
    "execution": {
     "iopub.execute_input": "2022-07-08T11:44:13.407877Z",
     "iopub.status.busy": "2022-07-08T11:44:13.406855Z",
     "iopub.status.idle": "2022-07-08T11:44:13.633476Z",
     "shell.execute_reply": "2022-07-08T11:44:13.632311Z",
     "shell.execute_reply.started": "2022-07-08T11:44:13.407837Z"
    }
   },
   "outputs": [],
   "source": [
    "# details of parameters\n",
    "# https://scikit-learn.org/stable/modules/generated/sklearn.linear_model.LogisticRegression.html\n",
    "parameters = {\"C\":[0.01,0.1,1], 'penalty':['l2'], 'solver':['lbfgs']}  \n",
    "lr = LogisticRegression()\n",
    "\n",
    "logreg_cv = GridSearchCV(lr, parameters, cv=10)\n",
    "logreg_cv.fit(X, y)\n",
    "logreg_cv.best_estimator_\n",
    "\n",
    "print(\"tuned hpyerparameters :(best parameters) \",logreg_cv.best_params_)\n",
    "print(\"accuracy :\",logreg_cv.best_score_)"
   ]
  },
  {
   "cell_type": "markdown",
   "metadata": {},
   "source": [
    "### TASK 5\n",
    "\n",
    "Calculate the accuracy on the test data using the method score:"
   ]
  },
  {
   "cell_type": "code",
   "execution_count": null,
   "metadata": {
    "execution": {
     "iopub.execute_input": "2022-07-08T11:44:13.6352Z",
     "iopub.status.busy": "2022-07-08T11:44:13.634912Z",
     "iopub.status.idle": "2022-07-08T11:44:13.643204Z",
     "shell.execute_reply": "2022-07-08T11:44:13.642069Z",
     "shell.execute_reply.started": "2022-07-08T11:44:13.635172Z"
    }
   },
   "outputs": [],
   "source": [
    "print('score on train data: ', logreg_cv.score(X_train, y_train))  # R² score on train data\n",
    "print('score on test data : ', logreg_cv.score(X_test, y_test))  # R² score on test data\n"
   ]
  },
  {
   "cell_type": "markdown",
   "metadata": {},
   "source": [
    "Lets look at the confusion matrix:"
   ]
  },
  {
   "cell_type": "code",
   "execution_count": null,
   "metadata": {
    "execution": {
     "iopub.execute_input": "2022-07-08T11:44:13.645268Z",
     "iopub.status.busy": "2022-07-08T11:44:13.64491Z",
     "iopub.status.idle": "2022-07-08T11:44:13.866283Z",
     "shell.execute_reply": "2022-07-08T11:44:13.86514Z",
     "shell.execute_reply.started": "2022-07-08T11:44:13.645228Z"
    }
   },
   "outputs": [],
   "source": [
    "yhat=logreg_cv.predict(X_test)\n",
    "plot_confusion_matrix(y_test,yhat)"
   ]
  },
  {
   "cell_type": "markdown",
   "metadata": {},
   "source": [
    "Examining the confusion matrix, we see that logistic regression can distinguish between the different classes. We see that the major problem is false positives.\n",
    "\n",
    "### TASK 6\n",
    "Create a support vector machine object then create a GridSearchCV object svm_cv with cv - 10. Fit the object to find the best parameters from the dictionary parameters."
   ]
  },
  {
   "cell_type": "code",
   "execution_count": null,
   "metadata": {
    "execution": {
     "iopub.execute_input": "2022-07-08T11:44:13.869189Z",
     "iopub.status.busy": "2022-07-08T11:44:13.868052Z",
     "iopub.status.idle": "2022-07-08T11:44:16.225149Z",
     "shell.execute_reply": "2022-07-08T11:44:16.224123Z",
     "shell.execute_reply.started": "2022-07-08T11:44:13.869133Z"
    }
   },
   "outputs": [],
   "source": [
    "parameters = {'kernel':('linear', 'rbf','poly','rbf', 'sigmoid'),\n",
    "              'C': np.logspace(-3, 3, 5),\n",
    "              'gamma':np.logspace(-3, 3, 5)}  # from 10^-3 to 10^3 in 6 steps with equal quotients\n",
    "svm = SVC()\n",
    "\n",
    "svm_cv = GridSearchCV(svm, parameters, cv=10)\n",
    "svm_cv.fit(X, y)\n",
    "svm_cv.best_estimator_\n",
    "\n",
    "print(\"tuned hpyerparameters :(best parameters) \",svm_cv.best_params_)\n",
    "print(\"accuracy :\",svm_cv.best_score_)\n"
   ]
  },
  {
   "cell_type": "code",
   "execution_count": null,
   "metadata": {
    "execution": {
     "iopub.execute_input": "2022-07-08T11:44:16.226911Z",
     "iopub.status.busy": "2022-07-08T11:44:16.226519Z",
     "iopub.status.idle": "2022-07-08T11:44:16.23564Z",
     "shell.execute_reply": "2022-07-08T11:44:16.234409Z",
     "shell.execute_reply.started": "2022-07-08T11:44:16.226875Z"
    }
   },
   "outputs": [],
   "source": [
    "print('score on train data: ', svm_cv.score(X_train, y_train))  # R² score on train data\n",
    "print('score on test data : ', svm_cv.score(X_test, y_test))  # R² score on test data"
   ]
  },
  {
   "cell_type": "markdown",
   "metadata": {},
   "source": [
    "### TASK 7\n",
    "Calculate the accuracy on the test data using the method score:"
   ]
  },
  {
   "cell_type": "code",
   "execution_count": null,
   "metadata": {
    "execution": {
     "iopub.execute_input": "2022-07-08T11:44:16.237278Z",
     "iopub.status.busy": "2022-07-08T11:44:16.236987Z",
     "iopub.status.idle": "2022-07-08T11:44:16.249402Z",
     "shell.execute_reply": "2022-07-08T11:44:16.248044Z",
     "shell.execute_reply.started": "2022-07-08T11:44:16.237254Z"
    }
   },
   "outputs": [],
   "source": [
    "print('score on train data: ', svm_cv.score(X_train, y_train))  # R² score on train data\n",
    "print('score on test data : ', svm_cv.score(X_test, y_test))  # R² score on test data\n"
   ]
  },
  {
   "cell_type": "markdown",
   "metadata": {},
   "source": [
    "We can plot the confusion matrix"
   ]
  },
  {
   "cell_type": "code",
   "execution_count": null,
   "metadata": {
    "execution": {
     "iopub.execute_input": "2022-07-08T11:44:16.251588Z",
     "iopub.status.busy": "2022-07-08T11:44:16.250484Z",
     "iopub.status.idle": "2022-07-08T11:44:16.460819Z",
     "shell.execute_reply": "2022-07-08T11:44:16.459567Z",
     "shell.execute_reply.started": "2022-07-08T11:44:16.251553Z"
    }
   },
   "outputs": [],
   "source": [
    "yhat=svm_cv.predict(X_test)\n",
    "plot_confusion_matrix(y_test,yhat)"
   ]
  },
  {
   "cell_type": "markdown",
   "metadata": {},
   "source": [
    "### TASK 8\n",
    "Create a decision tree classifier object then create a GridSearchCV object tree_cv with cv = 10. Fit the object to find the best parameters from the dictionary parameters."
   ]
  },
  {
   "cell_type": "code",
   "execution_count": null,
   "metadata": {
    "execution": {
     "iopub.execute_input": "2022-07-08T11:44:16.462469Z",
     "iopub.status.busy": "2022-07-08T11:44:16.462182Z",
     "iopub.status.idle": "2022-07-08T11:44:25.463684Z",
     "shell.execute_reply": "2022-07-08T11:44:25.462267Z",
     "shell.execute_reply.started": "2022-07-08T11:44:16.462442Z"
    }
   },
   "outputs": [],
   "source": [
    "parameters = {'criterion': ['gini', 'entropy'],\n",
    "     'splitter': ['best', 'random'],\n",
    "     'max_depth': [2*n for n in range(1,10)],\n",
    "     'max_features': ['auto', 'sqrt'],\n",
    "     'min_samples_leaf': [1, 2, 4],\n",
    "     'min_samples_split': [2, 5, 10]}\n",
    "\n",
    "tree = DecisionTreeClassifier()\n",
    "\n",
    "tree_cv = GridSearchCV(tree, parameters, cv=10)\n",
    "tree_cv.fit(X, y)\n",
    "tree_cv.best_estimator_\n",
    "\n",
    "print(\"tuned hpyerparameters :(best parameters) \",tree_cv.best_params_)\n",
    "print(\"accuracy :\",tree_cv.best_score_)\n"
   ]
  },
  {
   "cell_type": "markdown",
   "metadata": {},
   "source": [
    "### TASK 9\n",
    "Calculate the accuracy of tree_cv on the test data using the method score:"
   ]
  },
  {
   "cell_type": "code",
   "execution_count": null,
   "metadata": {
    "execution": {
     "iopub.execute_input": "2022-07-08T11:44:25.465789Z",
     "iopub.status.busy": "2022-07-08T11:44:25.465155Z",
     "iopub.status.idle": "2022-07-08T11:44:25.473928Z",
     "shell.execute_reply": "2022-07-08T11:44:25.472648Z",
     "shell.execute_reply.started": "2022-07-08T11:44:25.46572Z"
    }
   },
   "outputs": [],
   "source": [
    "print('score on train data: ', tree_cv.score(X_train, y_train))  # R² score on train data\n",
    "print('score on test data : ', tree_cv.score(X_test, y_test))  # R² score on test data\n"
   ]
  },
  {
   "cell_type": "markdown",
   "metadata": {},
   "source": [
    "### TASK 10¶\n",
    "Create a k nearest neighbors object then create a GridSearchCV object knn_cv with cv = 10. Fit the object to find the best parameters from the dictionary parameters."
   ]
  },
  {
   "cell_type": "code",
   "execution_count": null,
   "metadata": {
    "execution": {
     "iopub.execute_input": "2022-07-08T11:44:25.47553Z",
     "iopub.status.busy": "2022-07-08T11:44:25.475166Z",
     "iopub.status.idle": "2022-07-08T11:44:27.05053Z",
     "shell.execute_reply": "2022-07-08T11:44:27.049634Z",
     "shell.execute_reply.started": "2022-07-08T11:44:25.475498Z"
    }
   },
   "outputs": [],
   "source": [
    "parameters = {'n_neighbors': [1, 2, 3, 4, 5, 6, 7, 8, 9, 10],\n",
    "              'algorithm': ['auto', 'ball_tree', 'kd_tree', 'brute'],\n",
    "              'p': [1,2]}\n",
    "\n",
    "KNN = KNeighborsClassifier()\n",
    "\n",
    "knn_cv = GridSearchCV(KNN, parameters, cv=10)\n",
    "knn_cv.fit(X, y)\n",
    "knn_cv.best_estimator_\n",
    "\n",
    "print(\"tuned hpyerparameters :(best parameters) \", knn_cv.best_params_)\n",
    "print(\"accuracy :\", knn_cv.best_score_)"
   ]
  },
  {
   "cell_type": "markdown",
   "metadata": {},
   "source": [
    "### TASK 11\n",
    "Calculate the accuracy of knn_cv on the test data using the method score:"
   ]
  },
  {
   "cell_type": "code",
   "execution_count": null,
   "metadata": {
    "execution": {
     "iopub.execute_input": "2022-07-08T11:44:27.052567Z",
     "iopub.status.busy": "2022-07-08T11:44:27.051981Z",
     "iopub.status.idle": "2022-07-08T11:44:27.064906Z",
     "shell.execute_reply": "2022-07-08T11:44:27.063646Z",
     "shell.execute_reply.started": "2022-07-08T11:44:27.052532Z"
    }
   },
   "outputs": [],
   "source": [
    "print('score on train data: ', knn_cv.score(X_train, y_train))  # R² score on train data\n",
    "print('score on test data : ', knn_cv.score(X_test, y_test))  # R² score on test data"
   ]
  },
  {
   "cell_type": "markdown",
   "metadata": {},
   "source": [
    "We can plot the confusion matrix"
   ]
  },
  {
   "cell_type": "code",
   "execution_count": null,
   "metadata": {
    "execution": {
     "iopub.execute_input": "2022-07-08T11:44:27.067178Z",
     "iopub.status.busy": "2022-07-08T11:44:27.066431Z",
     "iopub.status.idle": "2022-07-08T11:44:27.252773Z",
     "shell.execute_reply": "2022-07-08T11:44:27.251809Z",
     "shell.execute_reply.started": "2022-07-08T11:44:27.067134Z"
    }
   },
   "outputs": [],
   "source": [
    "yhat = knn_cv.predict(X_test)\n",
    "plot_confusion_matrix(y_test,yhat)"
   ]
  },
  {
   "cell_type": "markdown",
   "metadata": {},
   "source": [
    "### TASK 12\n",
    "\n",
    "Find the method performs best:"
   ]
  },
  {
   "cell_type": "markdown",
   "metadata": {},
   "source": [
    "Scores on test data for each method\n",
    "- Logistic Regression: 0.944\n",
    "- SVM: 0.944\n",
    "- Decision Tree: 0.888\n",
    "- KNN: 0.888\n",
    "\n",
    "Conclusion: Logistic Regression and SVM deliver the best performance on test data."
   ]
  },
  {
   "cell_type": "code",
   "execution_count": null,
   "metadata": {},
   "outputs": [],
   "source": []
  }
 ],
 "metadata": {
  "kernelspec": {
   "display_name": "Python 3 (ipykernel)",
   "language": "python",
   "name": "python3"
  },
  "language_info": {
   "codemirror_mode": {
    "name": "ipython",
    "version": 3
   },
   "file_extension": ".py",
   "mimetype": "text/x-python",
   "name": "python",
   "nbconvert_exporter": "python",
   "pygments_lexer": "ipython3",
   "version": "3.9.12"
  }
 },
 "nbformat": 4,
 "nbformat_minor": 4
}
